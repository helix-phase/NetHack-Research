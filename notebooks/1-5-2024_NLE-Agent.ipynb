{
 "cells": [
  {
   "cell_type": "code",
   "id": "initial_id",
   "metadata": {
    "collapsed": true,
    "ExecuteTime": {
     "end_time": "2025-03-05T23:02:48.453540Z",
     "start_time": "2025-03-05T23:02:48.371952Z"
    }
   },
   "source": [
    "import nle.dataset as nld\n",
    "from nle.nethack import tty_render\n",
    "from nle.dataset import db\n",
    "\n",
    "import numpy as np\n",
    "import matplotlib.pyplot as plt\n",
    "import pandas as pd \n",
    "import seaborn as sns"
   ],
   "outputs": [],
   "execution_count": 2
  },
  {
   "metadata": {
    "ExecuteTime": {
     "end_time": "2025-01-27T21:47:41.532275Z",
     "start_time": "2025-01-27T21:47:41.528100Z"
    }
   },
   "cell_type": "code",
   "source": [
    "nld_nao_path = \"/code/nld-nao/nld-nao-unzipped\"\n",
    "\n",
    "dbfilename = \"/code/NetHack-Research/data/raw/nld-nao.db\"\n",
    "\n",
    "dataset_name = \"nld-nao\""
   ],
   "id": "21218dd8068866c0",
   "outputs": [],
   "execution_count": 2
  },
  {
   "metadata": {
    "ExecuteTime": {
     "end_time": "2025-03-05T23:02:51.114946Z",
     "start_time": "2025-03-05T23:02:51.003807Z"
    }
   },
   "cell_type": "code",
   "source": [
    "nld_nao_path = \"/code/nld-nao/nld-nao-unzipped\"\n",
    "\n",
    "dbfilename = \"/code/NetHack-Research/data/raw/nld-nao.db\"\n",
    "\n",
    "dataset_name = \"nld-nao\"\n",
    "\n",
    "if not nld.db.exists(dbfilename):\n",
    "    nld.db.create(dbfilename)\n",
    "    # Add NLD-NAO data, use the `add_altorg_directory`.\n",
    "    nld.add_altorg_directory(nld_nao_path, \"nld-nao\", dbfilename)\n",
    "else:\n",
    "    print(f\"Database already exists: {dbfilename}\")\n",
    "    \n",
    "    \n",
    "db_conn = nld.db.connect(filename=dbfilename)\n",
    "print(f\"NLD-NAO Dataset has {nld.db.count_games('nld-nao', conn=db_conn)} games.\")"
   ],
   "id": "9d6f25bf4a881728",
   "outputs": [
    {
     "name": "stdout",
     "output_type": "stream",
     "text": [
      "Database already exists: /code/NetHack-Research/data/raw/nld-nao.db\n",
      "NLD-NAO Dataset has 1511228 games.\n"
     ]
    }
   ],
   "execution_count": 3
  },
  {
   "metadata": {
    "ExecuteTime": {
     "end_time": "2025-01-27T21:47:44.971785Z",
     "start_time": "2025-01-27T21:47:44.799802Z"
    }
   },
   "cell_type": "code",
   "source": [
    "db_conn = nld.db.connect(filename=dbfilename)\n",
    "print(f\"NLD-NAO Dataset has {nld.db.count_games('nld-nao', conn=db_conn)} games.\")"
   ],
   "id": "6fb6799cefdbcd48",
   "outputs": [
    {
     "name": "stdout",
     "output_type": "stream",
     "text": [
      "NLD-NAO Dataset has 1511228 games.\n"
     ]
    }
   ],
   "execution_count": 4
  },
  {
   "metadata": {
    "ExecuteTime": {
     "end_time": "2025-03-05T23:19:03.587346Z",
     "start_time": "2025-03-05T23:18:57.309184Z"
    }
   },
   "cell_type": "code",
   "source": [
    "dataset = nld.TtyrecDataset(\n",
    "    \"nld-nao\",\n",
    "    batch_size=32,\n",
    "    seq_length=32,\n",
    "    dbfilename=dbfilename,\n",
    ")\n",
    "\n",
    "minibatch = next(iter(dataset))\n",
    "type(dataset._gameids)"
   ],
   "id": "5128a6a1fc8c11fd",
   "outputs": [
    {
     "data": {
      "text/plain": [
       "list"
      ]
     },
     "execution_count": 7,
     "metadata": {},
     "output_type": "execute_result"
    }
   ],
   "execution_count": 7
  },
  {
   "metadata": {},
   "cell_type": "code",
   "source": "print(minibatch)",
   "id": "3777528708456724",
   "outputs": [],
   "execution_count": null
  },
  {
   "metadata": {},
   "cell_type": "code",
   "outputs": [],
   "execution_count": null,
   "source": "",
   "id": "be0267d1c66274b7"
  }
 ],
 "metadata": {
  "kernelspec": {
   "display_name": "Python 3",
   "language": "python",
   "name": "python3"
  },
  "language_info": {
   "codemirror_mode": {
    "name": "ipython",
    "version": 2
   },
   "file_extension": ".py",
   "mimetype": "text/x-python",
   "name": "python",
   "nbconvert_exporter": "python",
   "pygments_lexer": "ipython2",
   "version": "2.7.6"
  }
 },
 "nbformat": 4,
 "nbformat_minor": 5
}
