{
 "cells": [
  {
   "cell_type": "code",
   "id": "initial_id",
   "metadata": {
    "collapsed": true,
    "ExecuteTime": {
     "end_time": "2025-01-06T16:27:31.253280Z",
     "start_time": "2025-01-06T16:27:31.172155Z"
    }
   },
   "source": [
    "import nle.dataset as nld\n",
    "from nle.nethack import tty_render\n",
    "from nle.dataset import db\n",
    "\n",
    "import numpy as np\n",
    "import matplotlib.pyplot as plt\n",
    "import pandas as pd \n",
    "import seaborn as sns"
   ],
   "outputs": [],
   "execution_count": 2
  },
  {
   "metadata": {
    "ExecuteTime": {
     "end_time": "2025-01-06T16:27:31.787924Z",
     "start_time": "2025-01-06T16:27:31.784893Z"
    }
   },
   "cell_type": "code",
   "source": [
    "nld_nao_path = \"/code/nld-nao/nld-nao-unzipped\"\n",
    "\n",
    "dbfilename = \"/code/NetHack-Research/data/raw/nld-nao.db\"\n",
    "\n",
    "dataset_name = \"nld-nao\""
   ],
   "id": "21218dd8068866c0",
   "outputs": [],
   "execution_count": 3
  },
  {
   "metadata": {
    "ExecuteTime": {
     "end_time": "2025-01-06T16:27:33.422890Z",
     "start_time": "2025-01-06T16:27:33.417646Z"
    }
   },
   "cell_type": "code",
   "source": [
    "if not nld.db.exists(dbfilename):\n",
    "    nld.db.create(dbfilename)\n",
    "    # Add NLD-NAO data, use the `add_altorg_directory`.\n",
    "    nld.add_altorg_directory(nld_nao_path, \"nld-nao\", dbfilename)\n",
    "else:\n",
    "    print(f\"Database already exists: {dbfilename}\")"
   ],
   "id": "9d6f25bf4a881728",
   "outputs": [
    {
     "name": "stdout",
     "output_type": "stream",
     "text": [
      "Database already exists: /code/NetHack-Research/data/raw/nld-nao.db\n"
     ]
    }
   ],
   "execution_count": 4
  },
  {
   "metadata": {
    "ExecuteTime": {
     "end_time": "2025-01-06T16:27:34.646902Z",
     "start_time": "2025-01-06T16:27:34.487935Z"
    }
   },
   "cell_type": "code",
   "source": [
    "db_conn = nld.db.connect(filename=dbfilename)\n",
    "print(f\"NLD-NAO Dataset has {nld.db.count_games('nld-nao', conn=db_conn)} games.\")"
   ],
   "id": "6fb6799cefdbcd48",
   "outputs": [
    {
     "name": "stdout",
     "output_type": "stream",
     "text": [
      "NLD-NAO Dataset has 1511228 games.\n"
     ]
    }
   ],
   "execution_count": 5
  },
  {
   "metadata": {
    "ExecuteTime": {
     "end_time": "2025-01-06T16:27:42.793218Z",
     "start_time": "2025-01-06T16:27:36.212630Z"
    }
   },
   "cell_type": "code",
   "source": [
    "dataset = nld.TtyrecDataset(\n",
    "    \"nld-nao\",\n",
    "    batch_size=32,\n",
    "    seq_length=32,\n",
    "    dbfilename=dbfilename,\n",
    ")\n",
    "\n",
    "minibatch = next(iter(dataset))\n",
    "minibatch.keys()"
   ],
   "id": "5128a6a1fc8c11fd",
   "outputs": [
    {
     "data": {
      "text/plain": [
       "dict_keys(['tty_chars', 'tty_colors', 'tty_cursor', 'timestamps', 'done', 'gameids'])"
      ]
     },
     "execution_count": 6,
     "metadata": {},
     "output_type": "execute_result"
    }
   ],
   "execution_count": 6
  },
  {
   "metadata": {},
   "cell_type": "code",
   "outputs": [],
   "execution_count": null,
   "source": "",
   "id": "3777528708456724"
  }
 ],
 "metadata": {
  "kernelspec": {
   "display_name": "Python 3",
   "language": "python",
   "name": "python3"
  },
  "language_info": {
   "codemirror_mode": {
    "name": "ipython",
    "version": 2
   },
   "file_extension": ".py",
   "mimetype": "text/x-python",
   "name": "python",
   "nbconvert_exporter": "python",
   "pygments_lexer": "ipython2",
   "version": "2.7.6"
  }
 },
 "nbformat": 4,
 "nbformat_minor": 5
}
