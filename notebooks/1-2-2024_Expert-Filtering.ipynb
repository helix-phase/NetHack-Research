{
 "cells": [
  {
   "cell_type": "code",
   "id": "initial_id",
   "metadata": {
    "collapsed": true,
    "ExecuteTime": {
     "end_time": "2025-01-02T20:22:02.796551Z",
     "start_time": "2025-01-02T20:22:02.793582Z"
    }
   },
   "source": [
    "import pandas as pd\n",
    "import matplotlib.pyplot as plt\n",
    "import numpy as np\n",
    "import seaborn as sns"
   ],
   "outputs": [],
   "execution_count": 1
  },
  {
   "metadata": {
    "ExecuteTime": {
     "end_time": "2025-01-02T20:22:20.057138Z",
     "start_time": "2025-01-02T20:22:16.018688Z"
    }
   },
   "cell_type": "code",
   "source": [
    "# Full dataset\n",
    "csv_path = \"/code/NetHack-Research/data/raw/full_data.csv\"\n",
    "\n",
    "# Load CSV to Pandas Dataframe\n",
    "full_df = pd.read_csv(csv_path)"
   ],
   "id": "55f10c2a1846d900",
   "outputs": [],
   "execution_count": 2
  },
  {
   "metadata": {},
   "cell_type": "code",
   "outputs": [],
   "execution_count": null,
   "source": "",
   "id": "c71c1d28d500e5ae"
  }
 ],
 "metadata": {
  "kernelspec": {
   "display_name": "Python 3",
   "language": "python",
   "name": "python3"
  },
  "language_info": {
   "codemirror_mode": {
    "name": "ipython",
    "version": 2
   },
   "file_extension": ".py",
   "mimetype": "text/x-python",
   "name": "python",
   "nbconvert_exporter": "python",
   "pygments_lexer": "ipython2",
   "version": "2.7.6"
  }
 },
 "nbformat": 4,
 "nbformat_minor": 5
}
