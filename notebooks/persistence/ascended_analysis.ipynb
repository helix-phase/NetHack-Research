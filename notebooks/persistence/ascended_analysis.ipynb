{
 "cells": [
  {
   "cell_type": "code",
   "id": "initial_id",
   "metadata": {
    "collapsed": true,
    "ExecuteTime": {
     "end_time": "2024-11-07T21:22:12.302572Z",
     "start_time": "2024-11-07T21:22:12.157048Z"
    }
   },
   "source": [
    "import nle.dataset as nld\n",
    "from nle.nethack import tty_render\n",
    "import os\n",
    "import numpy as np\n",
    "import matplotlib.pyplot as plt\n",
    "import pandas as pd \n",
    "import seaborn as sns\n",
    "from scipy.stats import ttest_ind"
   ],
   "outputs": [],
   "execution_count": 1
  },
  {
   "metadata": {
    "ExecuteTime": {
     "end_time": "2024-11-07T21:22:14.468377Z",
     "start_time": "2024-11-07T21:22:14.361062Z"
    }
   },
   "cell_type": "code",
   "source": [
    "# path to dataset\n",
    "nld_nao_path = \"/code/nld-nao/nld-nao-unzipped\"\n",
    "\n",
    "# name database\n",
    "dbfilename = \"nld-nao.db\"\n",
    "\n",
    "# name dataset\n",
    "dataset_name = \"nld-nao\"\n",
    "\n",
    "# connect database to \n",
    "db_conn = nld.db.connect(filename=dbfilename)\n",
    "print(f\"AltOrg Dataset has {nld.db.count_games('nld-nao', conn=db_conn)} games.\")"
   ],
   "id": "5bd050686097a2a6",
   "outputs": [
    {
     "name": "stdout",
     "output_type": "stream",
     "text": [
      "AltOrg Dataset has 1511228 games.\n"
     ]
    }
   ],
   "execution_count": 2
  },
  {
   "metadata": {
    "ExecuteTime": {
     "end_time": "2024-11-07T21:22:14.858818Z",
     "start_time": "2024-11-07T21:22:14.853925Z"
    }
   },
   "cell_type": "code",
   "source": [
    "# Build the subselect sql query\n",
    "subselect_sql = \"\"\"\n",
    "SELECT * \n",
    "FROM games \n",
    "WHERE name IN (SELECT name FROM games WHERE death = 'ascended' GROUP BY name HAVING COUNT(*) >= 1)\"\"\"\n"
   ],
   "id": "7901f618dde3aad3",
   "outputs": [],
   "execution_count": 3
  },
  {
   "metadata": {
    "ExecuteTime": {
     "end_time": "2024-11-07T21:22:27.045308Z",
     "start_time": "2024-11-07T21:22:16.324276Z"
    }
   },
   "cell_type": "code",
   "source": [
    "# Build Dataset \n",
    "# Dataframe of 500 players who have ascended 1 time (experts identified in this) \n",
    "\n",
    "# read dateframe from sql query\n",
    "df = pd.read_sql(subselect_sql, db_conn)  \n",
    "# Display the DataFrame with the first ten players\n",
    "# print(f\"Number of unique players who have ascended at least one time: {df['name'].nunique()}\")\n",
    "# Convert Unix time columns to datetime\n",
    "df['starttime'] = pd.to_datetime(df['starttime'], unit='s')\n",
    "df['endtime'] = pd.to_datetime(df['endtime'], unit='s')\n",
    "\n",
    "# Reorder the dataframe columns to put name in front\n",
    "column_to_move = 'name'\n",
    "new_columns_order = [column_to_move] + [col for col in df.columns if col != column_to_move]\n",
    "df = df[new_columns_order] \n",
    "\n",
    "\n",
    "# Group by player name and select the first 1000 unique players\n",
    "select_players = df['name'].unique()[:1000]\n",
    "\n",
    "# Filter the original DataFrame to include only the first ten players\n",
    "ascended_df = df[df['name'].isin(select_players)]\n",
    "\n",
    "data = ascended_df.sort_values(by=['name','starttime'])\n",
    "\n",
    "# Save to File\n",
    "data.to_csv('datasets/df.csv', index=False)  \n",
    "\n",
    "# Display the DataFrame with the first ten players\n",
    "print(f\"Number of Selected players: {data['name'].nunique()}\")"
   ],
   "id": "a06c96685b52ed00",
   "outputs": [
    {
     "name": "stdout",
     "output_type": "stream",
     "text": [
      "Number of Selected players: 1000\n"
     ]
    }
   ],
   "execution_count": 4
  },
  {
   "metadata": {
    "ExecuteTime": {
     "end_time": "2024-11-07T21:22:29.467450Z",
     "start_time": "2024-11-07T21:22:28.277441Z"
    }
   },
   "cell_type": "code",
   "source": [
    "# Add Game duration column\n",
    "data['game_duration'] = data['endtime'] - data['starttime']\n",
    "\n",
    "# Calculate the entire history of gameplay \n",
    "# Group by player name and calculate min starttime and max endtime\n",
    "time_diff = df.groupby('name').agg(min_starttime=('starttime', 'min'), max_endtime=('endtime', 'max')\n",
    ")\n",
    "\n",
    "# Calculate the difference\n",
    "time_diff['time_difference'] = time_diff['max_endtime'] - time_diff['min_starttime']\n",
    "\n",
    "# Merge the original DataFrame with the time difference DataFrame\n",
    "df = pd.merge(df, time_diff, on='name')\n",
    "\n",
    "# Drop extra rows\n",
    "df = df.drop('min_starttime', axis=1)\n",
    "df = df.drop('max_endtime', axis=1)\n",
    "\n",
    "\n",
    "# TODO: Add More Column information \n"
   ],
   "id": "dddf3a52d7891fcc",
   "outputs": [],
   "execution_count": 5
  },
  {
   "metadata": {
    "ExecuteTime": {
     "end_time": "2024-11-07T21:28:39.092794Z",
     "start_time": "2024-11-07T21:24:07.132383Z"
    }
   },
   "cell_type": "code",
   "source": [
    "def create_sequences(data, n, k):\n",
    "    sequences = []\n",
    "    labels = []\n",
    "    for player in data['name'].unique():\n",
    "        player_data = data[data['name'] == player].sort_values(by='starttime')\n",
    "        for i in range(len(player_data) - n - k + 1):\n",
    "            sequence = player_data.iloc[i:i+n]\n",
    "            label = 1 if player_data.iloc[i+n:i+n+k]['death'].eq('ascended').any() else 0\n",
    "            sequences.append(sequence)\n",
    "            labels.append(label)\n",
    "    return sequences, labels\n",
    "\n",
    "# Define your parameters for n and k\n",
    "n = 5  # Number of games to consider in the window\n",
    "k = 3  # Number of games to predict into the future\n",
    "sequences, labels = create_sequences(data, n, k)\n",
    "\n",
    "def extract_features(sequence):\n",
    "    # Example features\n",
    "    avg_points = sequence['points'].mean()\n",
    "    max_points = sequence['points'].max()\n",
    "    std_points = sequence['points'].std()\n",
    "    max_level = sequence['maxlvl'].max()\n",
    "    return pd.Series([avg_points, max_points, std_points, max_level], \n",
    "                     index=['avg_points', 'max_points', 'std_points', 'max_level'])\n",
    "\n",
    "# Ensure sequences is properly created before using it here\n",
    "features = pd.DataFrame([extract_features(seq) for seq in sequences])"
   ],
   "id": "17331ea764a0b80f",
   "outputs": [],
   "execution_count": 10
  },
  {
   "metadata": {
    "ExecuteTime": {
     "end_time": "2024-11-07T21:22:33.983605Z",
     "start_time": "2024-11-07T21:22:33.980139Z"
    }
   },
   "cell_type": "code",
   "source": [
    "# Function to find high-frequency gameplay periods\n",
    "# Identify periods of high gameplay frequency given a player\n",
    "# Parameters: Dataframe, rolling window size in days, threshold to determine number of games in a window \n",
    "# Returns: list of tim periods with high frequency gameplay \n",
    "def high_frequency_periods(df, window_size='30D', threshold=10):\n",
    "    # Resample or calculate rolling count of games\n",
    "    df['game_count'] = df['starttime'].dt.to_period('D')  # Convert to daily periods\n",
    "    rolling_counts = df.set_index('starttime').resample(window_size)['game_count'].count()  # Rolling window count\n",
    "\n",
    "    # Identify high-frequency periods\n",
    "    high_freq_periods = rolling_counts[rolling_counts >= threshold].index\n",
    "    return high_freq_periods"
   ],
   "id": "67710f4eb5d609f2",
   "outputs": [],
   "execution_count": 7
  },
  {
   "metadata": {
    "ExecuteTime": {
     "end_time": "2024-10-18T20:29:39.624512Z",
     "start_time": "2024-10-18T20:29:38.737687Z"
    }
   },
   "cell_type": "code",
   "source": [
    "# Clusters games in a dataframe into clusters based on threshold\n",
    "# Clustering Method 1 - Thresholding sequences of games\n",
    "def cluster_sequences(df, time_gap_threshold=30):\n",
    "    \n",
    "    # For each Player: Calculate the time difference (in days) between consecutive games\n",
    "    df['time_diff'] = df.groupby('name')['starttime'].diff().dt.days\n",
    "    \n",
    "    # Add labels with a large time difference and compare to threshold\n",
    "    df['large_gap'] = df['time_diff'] > time_gap_threshold\n",
    "    \n",
    "    # Create clusters based on the groups of games separated by this time gap threshold\n",
    "    df['cluster'] = df.groupby('name')['large_gap'].cumsum()\n",
    "    \n",
    "    # Drop the extra columns used to calculate the clusters\n",
    "    df = df.drop(columns=['large_gap', 'time_diff'])\n",
    "    \n",
    "    # Return dataframe with columns cluster\n",
    "    return df\n",
    "\n",
    "\n",
    "clustered_data = cluster_sequences(data, time_gap_threshold=30)\n",
    "\n",
    "clusters = clustered_data.groupby(['name', 'cluster'])\n",
    "\n",
    "player_clusters = clusters.get_group(('Player10', 1))  # Example: Get cluster 1 for Player10\n",
    "\n",
    "# You can further analyze or plot the data based on the clusters\n",
    "# Example: Plot points for Player1's different clusters\n",
    "player_name = 'Player10'\n",
    "\n",
    "for cluster_id, group in data[data['name'] == player_name].groupby('cluster'):\n",
    "    plt.plot(group['starttime'], group['points'], marker='o', label=f'Cluster {cluster_id}')\n",
    "\n",
    "plt.xlabel('Time')\n",
    "plt.ylabel('Points')\n",
    "plt.title(f'Clusters of Games for {player_name}')\n",
    "plt.legend()\n",
    "plt.tight_layout()\n",
    "plt.show()"
   ],
   "id": "b799390c9f252d6c",
   "outputs": [
    {
     "data": {
      "text/plain": [
       "<Figure size 640x480 with 1 Axes>"
      ],
      "image/png": "[encoded data removed]"
     },
     "metadata": {},
     "output_type": "display_data"
    }
   ],
   "execution_count": 16
  },
  {
   "metadata": {
    "ExecuteTime": {
     "end_time": "2024-10-18T20:29:40.988230Z",
     "start_time": "2024-10-18T20:29:40.897848Z"
    }
   },
   "cell_type": "code",
   "source": [
    "# Cluster extraction\n",
    "def extract_clusters(data, player_name):\n",
    "    \n",
    "    # Filter data for the specified player\n",
    "    player_data = data[data['name'] == player_name].copy()\n",
    "    \n",
    "    # Sort data by starttime within each cluster\n",
    "    player_data = player_data.sort_values(by=['cluster', 'starttime'])\n",
    "    \n",
    "    # Modify Statistics to create optimality\n",
    "    cluster_stats = player_data.groupby('cluster').agg(\n",
    "        total_points=('points', 'sum'),\n",
    "        avg_points=('points', 'mean'),\n",
    "        std_points=('points', 'std'),  \n",
    "        max_level=('maxlvl', 'max'),\n",
    "        avg_level=('maxlvl', 'mean'),\n",
    "        std_level=('maxlvl', 'std'),    \n",
    "        total_turns=('turns', 'sum'),\n",
    "        avg_turns=('turns', 'mean'),\n",
    "        std_turns=('turns', 'std'),    \n",
    "        game_count=('points', 'count'),\n",
    "        cluster_duration_days=(lambda x: (x['endtime'].max() - x['starttime'].min()).days)\n",
    "    ).reset_index()\n",
    "    \n",
    "    # variation metrics\n",
    "    cluster_stats['variation_points'] = cluster_stats['std_points'] / cluster_stats['avg_points']\n",
    "    cluster_stats['variation_levels'] = cluster_stats['std_level'] / cluster_stats['avg_level']\n",
    "    cluster_stats['variation_turns'] = cluster_stats['std_turns'] / cluster_stats['avg_turns']\n",
    "    \n",
    "\n",
    "    return player_data, cluster_stats\n",
    "\n",
    "player_name = 'Player10'\n",
    "player_data, cluster_stats = extract_clusters(clustered_data, player_name=player_name)\n",
    "\n",
    "\n",
    "# def plot_cluster_trends(player_data, cluster_column='cluster', metric='points'):\n",
    "#     # Create a scatter plot of the chosen metric over time, colored by cluster\n",
    "#     plt.figure(figsize=(14, 8))\n",
    "#     sns.scatterplot(x='starttime', y=metric, hue=cluster_column, data=player_data, palette='tab10', s=100)\n",
    "#     \n",
    "#     plt.title(f'Clusters of Games for {player_data[\"name\"].unique()[0]}')\n",
    "#     plt.xlabel('Start Time')\n",
    "#     plt.ylabel(metric.capitalize())\n",
    "#     plt.legend(title=cluster_column, bbox_to_anchor=(1.05, 1), loc='upper left')\n",
    "#     plt.tight_layout()\n",
    "#     plt.show()\n",
    "#     \n",
    "#     \n",
    "# plot_cluster_trends(player_data, metric='points')\n",
    "# \n",
    "# print(cluster_stats)"
   ],
   "id": "1cc66b19558c80a4",
   "outputs": [
    {
     "ename": "TypeError",
     "evalue": "Must provide 'func' or tuples of '(column, aggfunc).",
     "output_type": "error",
     "traceback": [
      "\u001B[0;31m---------------------------------------------------------------------------\u001B[0m",
      "\u001B[0;31mTypeError\u001B[0m                                 Traceback (most recent call last)",
      "Cell \u001B[0;32mIn[17], line 34\u001B[0m\n\u001B[1;32m     31\u001B[0m     \u001B[38;5;28;01mreturn\u001B[39;00m player_data, cluster_stats\n\u001B[1;32m     33\u001B[0m player_name \u001B[38;5;241m=\u001B[39m \u001B[38;5;124m'\u001B[39m\u001B[38;5;124mPlayer10\u001B[39m\u001B[38;5;124m'\u001B[39m\n\u001B[0;32m---> 34\u001B[0m player_data, cluster_stats \u001B[38;5;241m=\u001B[39m \u001B[43mextract_clusters\u001B[49m\u001B[43m(\u001B[49m\u001B[43mclustered_data\u001B[49m\u001B[43m,\u001B[49m\u001B[43m \u001B[49m\u001B[43mplayer_name\u001B[49m\u001B[38;5;241;43m=\u001B[39;49m\u001B[43mplayer_name\u001B[49m\u001B[43m)\u001B[49m\n\u001B[1;32m     37\u001B[0m \u001B[38;5;66;03m# def plot_cluster_trends(player_data, cluster_column='cluster', metric='points'):\u001B[39;00m\n\u001B[1;32m     38\u001B[0m \u001B[38;5;66;03m#     # Create a scatter plot of the chosen metric over time, colored by cluster\u001B[39;00m\n\u001B[1;32m     39\u001B[0m \u001B[38;5;66;03m#     plt.figure(figsize=(14, 8))\u001B[39;00m\n\u001B[0;32m   (...)\u001B[0m\n\u001B[1;32m     51\u001B[0m \u001B[38;5;66;03m# \u001B[39;00m\n\u001B[1;32m     52\u001B[0m \u001B[38;5;66;03m# print(cluster_stats)\u001B[39;00m\n",
      "Cell \u001B[0;32mIn[17], line 11\u001B[0m, in \u001B[0;36mextract_clusters\u001B[0;34m(data, player_name)\u001B[0m\n\u001B[1;32m      8\u001B[0m player_data \u001B[38;5;241m=\u001B[39m player_data\u001B[38;5;241m.\u001B[39msort_values(by\u001B[38;5;241m=\u001B[39m[\u001B[38;5;124m'\u001B[39m\u001B[38;5;124mcluster\u001B[39m\u001B[38;5;124m'\u001B[39m, \u001B[38;5;124m'\u001B[39m\u001B[38;5;124mstarttime\u001B[39m\u001B[38;5;124m'\u001B[39m])\n\u001B[1;32m     10\u001B[0m \u001B[38;5;66;03m# Modify Statistics to create optimality\u001B[39;00m\n\u001B[0;32m---> 11\u001B[0m cluster_stats \u001B[38;5;241m=\u001B[39m \u001B[43mplayer_data\u001B[49m\u001B[38;5;241;43m.\u001B[39;49m\u001B[43mgroupby\u001B[49m\u001B[43m(\u001B[49m\u001B[38;5;124;43m'\u001B[39;49m\u001B[38;5;124;43mcluster\u001B[39;49m\u001B[38;5;124;43m'\u001B[39;49m\u001B[43m)\u001B[49m\u001B[38;5;241;43m.\u001B[39;49m\u001B[43magg\u001B[49m\u001B[43m(\u001B[49m\n\u001B[1;32m     12\u001B[0m \u001B[43m    \u001B[49m\u001B[43mtotal_points\u001B[49m\u001B[38;5;241;43m=\u001B[39;49m\u001B[43m(\u001B[49m\u001B[38;5;124;43m'\u001B[39;49m\u001B[38;5;124;43mpoints\u001B[39;49m\u001B[38;5;124;43m'\u001B[39;49m\u001B[43m,\u001B[49m\u001B[43m \u001B[49m\u001B[38;5;124;43m'\u001B[39;49m\u001B[38;5;124;43msum\u001B[39;49m\u001B[38;5;124;43m'\u001B[39;49m\u001B[43m)\u001B[49m\u001B[43m,\u001B[49m\n\u001B[1;32m     13\u001B[0m \u001B[43m    \u001B[49m\u001B[43mavg_points\u001B[49m\u001B[38;5;241;43m=\u001B[39;49m\u001B[43m(\u001B[49m\u001B[38;5;124;43m'\u001B[39;49m\u001B[38;5;124;43mpoints\u001B[39;49m\u001B[38;5;124;43m'\u001B[39;49m\u001B[43m,\u001B[49m\u001B[43m \u001B[49m\u001B[38;5;124;43m'\u001B[39;49m\u001B[38;5;124;43mmean\u001B[39;49m\u001B[38;5;124;43m'\u001B[39;49m\u001B[43m)\u001B[49m\u001B[43m,\u001B[49m\n\u001B[1;32m     14\u001B[0m \u001B[43m    \u001B[49m\u001B[43mstd_points\u001B[49m\u001B[38;5;241;43m=\u001B[39;49m\u001B[43m(\u001B[49m\u001B[38;5;124;43m'\u001B[39;49m\u001B[38;5;124;43mpoints\u001B[39;49m\u001B[38;5;124;43m'\u001B[39;49m\u001B[43m,\u001B[49m\u001B[43m \u001B[49m\u001B[38;5;124;43m'\u001B[39;49m\u001B[38;5;124;43mstd\u001B[39;49m\u001B[38;5;124;43m'\u001B[39;49m\u001B[43m)\u001B[49m\u001B[43m,\u001B[49m\u001B[43m   \u001B[49m\u001B[38;5;66;43;03m# Standard deviation of points\u001B[39;49;00m\n\u001B[1;32m     15\u001B[0m \u001B[43m    \u001B[49m\u001B[43mmax_level\u001B[49m\u001B[38;5;241;43m=\u001B[39;49m\u001B[43m(\u001B[49m\u001B[38;5;124;43m'\u001B[39;49m\u001B[38;5;124;43mmaxlvl\u001B[39;49m\u001B[38;5;124;43m'\u001B[39;49m\u001B[43m,\u001B[49m\u001B[43m \u001B[49m\u001B[38;5;124;43m'\u001B[39;49m\u001B[38;5;124;43mmax\u001B[39;49m\u001B[38;5;124;43m'\u001B[39;49m\u001B[43m)\u001B[49m\u001B[43m,\u001B[49m\n\u001B[1;32m     16\u001B[0m \u001B[43m    \u001B[49m\u001B[43mavg_level\u001B[49m\u001B[38;5;241;43m=\u001B[39;49m\u001B[43m(\u001B[49m\u001B[38;5;124;43m'\u001B[39;49m\u001B[38;5;124;43mmaxlvl\u001B[39;49m\u001B[38;5;124;43m'\u001B[39;49m\u001B[43m,\u001B[49m\u001B[43m \u001B[49m\u001B[38;5;124;43m'\u001B[39;49m\u001B[38;5;124;43mmean\u001B[39;49m\u001B[38;5;124;43m'\u001B[39;49m\u001B[43m)\u001B[49m\u001B[43m,\u001B[49m\n\u001B[1;32m     17\u001B[0m \u001B[43m    \u001B[49m\u001B[43mstd_level\u001B[49m\u001B[38;5;241;43m=\u001B[39;49m\u001B[43m(\u001B[49m\u001B[38;5;124;43m'\u001B[39;49m\u001B[38;5;124;43mmaxlvl\u001B[39;49m\u001B[38;5;124;43m'\u001B[39;49m\u001B[43m,\u001B[49m\u001B[43m \u001B[49m\u001B[38;5;124;43m'\u001B[39;49m\u001B[38;5;124;43mstd\u001B[39;49m\u001B[38;5;124;43m'\u001B[39;49m\u001B[43m)\u001B[49m\u001B[43m,\u001B[49m\u001B[43m    \u001B[49m\u001B[38;5;66;43;03m# Standard deviation of max levels\u001B[39;49;00m\n\u001B[1;32m     18\u001B[0m \u001B[43m    \u001B[49m\u001B[43mtotal_turns\u001B[49m\u001B[38;5;241;43m=\u001B[39;49m\u001B[43m(\u001B[49m\u001B[38;5;124;43m'\u001B[39;49m\u001B[38;5;124;43mturns\u001B[39;49m\u001B[38;5;124;43m'\u001B[39;49m\u001B[43m,\u001B[49m\u001B[43m \u001B[49m\u001B[38;5;124;43m'\u001B[39;49m\u001B[38;5;124;43msum\u001B[39;49m\u001B[38;5;124;43m'\u001B[39;49m\u001B[43m)\u001B[49m\u001B[43m,\u001B[49m\n\u001B[1;32m     19\u001B[0m \u001B[43m    \u001B[49m\u001B[43mavg_turns\u001B[49m\u001B[38;5;241;43m=\u001B[39;49m\u001B[43m(\u001B[49m\u001B[38;5;124;43m'\u001B[39;49m\u001B[38;5;124;43mturns\u001B[39;49m\u001B[38;5;124;43m'\u001B[39;49m\u001B[43m,\u001B[49m\u001B[43m \u001B[49m\u001B[38;5;124;43m'\u001B[39;49m\u001B[38;5;124;43mmean\u001B[39;49m\u001B[38;5;124;43m'\u001B[39;49m\u001B[43m)\u001B[49m\u001B[43m,\u001B[49m\n\u001B[1;32m     20\u001B[0m \u001B[43m    \u001B[49m\u001B[43mstd_turns\u001B[49m\u001B[38;5;241;43m=\u001B[39;49m\u001B[43m(\u001B[49m\u001B[38;5;124;43m'\u001B[39;49m\u001B[38;5;124;43mturns\u001B[39;49m\u001B[38;5;124;43m'\u001B[39;49m\u001B[43m,\u001B[49m\u001B[43m \u001B[49m\u001B[38;5;124;43m'\u001B[39;49m\u001B[38;5;124;43mstd\u001B[39;49m\u001B[38;5;124;43m'\u001B[39;49m\u001B[43m)\u001B[49m\u001B[43m,\u001B[49m\u001B[43m     \u001B[49m\u001B[38;5;66;43;03m# Standard deviation of turns\u001B[39;49;00m\n\u001B[1;32m     21\u001B[0m \u001B[43m    \u001B[49m\u001B[43mgame_count\u001B[49m\u001B[38;5;241;43m=\u001B[39;49m\u001B[43m(\u001B[49m\u001B[38;5;124;43m'\u001B[39;49m\u001B[38;5;124;43mpoints\u001B[39;49m\u001B[38;5;124;43m'\u001B[39;49m\u001B[43m,\u001B[49m\u001B[43m \u001B[49m\u001B[38;5;124;43m'\u001B[39;49m\u001B[38;5;124;43mcount\u001B[39;49m\u001B[38;5;124;43m'\u001B[39;49m\u001B[43m)\u001B[49m\u001B[43m,\u001B[49m\n\u001B[1;32m     22\u001B[0m \u001B[43m    \u001B[49m\u001B[43mcluster_duration_days\u001B[49m\u001B[38;5;241;43m=\u001B[39;49m\u001B[43m(\u001B[49m\u001B[38;5;28;43;01mlambda\u001B[39;49;00m\u001B[43m \u001B[49m\u001B[43mx\u001B[49m\u001B[43m:\u001B[49m\u001B[43m \u001B[49m\u001B[43m(\u001B[49m\u001B[43mx\u001B[49m\u001B[43m[\u001B[49m\u001B[38;5;124;43m'\u001B[39;49m\u001B[38;5;124;43mendtime\u001B[39;49m\u001B[38;5;124;43m'\u001B[39;49m\u001B[43m]\u001B[49m\u001B[38;5;241;43m.\u001B[39;49m\u001B[43mmax\u001B[49m\u001B[43m(\u001B[49m\u001B[43m)\u001B[49m\u001B[43m \u001B[49m\u001B[38;5;241;43m-\u001B[39;49m\u001B[43m \u001B[49m\u001B[43mx\u001B[49m\u001B[43m[\u001B[49m\u001B[38;5;124;43m'\u001B[39;49m\u001B[38;5;124;43mstarttime\u001B[39;49m\u001B[38;5;124;43m'\u001B[39;49m\u001B[43m]\u001B[49m\u001B[38;5;241;43m.\u001B[39;49m\u001B[43mmin\u001B[49m\u001B[43m(\u001B[49m\u001B[43m)\u001B[49m\u001B[43m)\u001B[49m\u001B[38;5;241;43m.\u001B[39;49m\u001B[43mdays\u001B[49m\u001B[43m)\u001B[49m\n\u001B[1;32m     23\u001B[0m \u001B[43m\u001B[49m\u001B[43m)\u001B[49m\u001B[38;5;241m.\u001B[39mreset_index()\n\u001B[1;32m     25\u001B[0m \u001B[38;5;66;03m# Add variation metrics (optional)\u001B[39;00m\n\u001B[1;32m     26\u001B[0m cluster_stats[\u001B[38;5;124m'\u001B[39m\u001B[38;5;124mvariation_points\u001B[39m\u001B[38;5;124m'\u001B[39m] \u001B[38;5;241m=\u001B[39m cluster_stats[\u001B[38;5;124m'\u001B[39m\u001B[38;5;124mstd_points\u001B[39m\u001B[38;5;124m'\u001B[39m] \u001B[38;5;241m/\u001B[39m cluster_stats[\u001B[38;5;124m'\u001B[39m\u001B[38;5;124mavg_points\u001B[39m\u001B[38;5;124m'\u001B[39m]\n",
      "File \u001B[0;32m/code/persistence/.venv/lib/python3.10/site-packages/pandas/core/groupby/generic.py:1422\u001B[0m, in \u001B[0;36mDataFrameGroupBy.aggregate\u001B[0;34m(self, func, engine, engine_kwargs, *args, **kwargs)\u001B[0m\n\u001B[1;32m   1420\u001B[0m \u001B[38;5;129m@doc\u001B[39m(_agg_template_frame, examples\u001B[38;5;241m=\u001B[39m_agg_examples_doc, klass\u001B[38;5;241m=\u001B[39m\u001B[38;5;124m\"\u001B[39m\u001B[38;5;124mDataFrame\u001B[39m\u001B[38;5;124m\"\u001B[39m)\n\u001B[1;32m   1421\u001B[0m \u001B[38;5;28;01mdef\u001B[39;00m \u001B[38;5;21maggregate\u001B[39m(\u001B[38;5;28mself\u001B[39m, func\u001B[38;5;241m=\u001B[39m\u001B[38;5;28;01mNone\u001B[39;00m, \u001B[38;5;241m*\u001B[39margs, engine\u001B[38;5;241m=\u001B[39m\u001B[38;5;28;01mNone\u001B[39;00m, engine_kwargs\u001B[38;5;241m=\u001B[39m\u001B[38;5;28;01mNone\u001B[39;00m, \u001B[38;5;241m*\u001B[39m\u001B[38;5;241m*\u001B[39mkwargs):\n\u001B[0;32m-> 1422\u001B[0m     relabeling, func, columns, order \u001B[38;5;241m=\u001B[39m \u001B[43mreconstruct_func\u001B[49m\u001B[43m(\u001B[49m\u001B[43mfunc\u001B[49m\u001B[43m,\u001B[49m\u001B[43m \u001B[49m\u001B[38;5;241;43m*\u001B[39;49m\u001B[38;5;241;43m*\u001B[39;49m\u001B[43mkwargs\u001B[49m\u001B[43m)\u001B[49m\n\u001B[1;32m   1423\u001B[0m     func \u001B[38;5;241m=\u001B[39m maybe_mangle_lambdas(func)\n\u001B[1;32m   1425\u001B[0m     \u001B[38;5;28;01mif\u001B[39;00m maybe_use_numba(engine):\n\u001B[1;32m   1426\u001B[0m         \u001B[38;5;66;03m# Not all agg functions support numba, only propagate numba kwargs\u001B[39;00m\n\u001B[1;32m   1427\u001B[0m         \u001B[38;5;66;03m# if user asks for numba\u001B[39;00m\n",
      "File \u001B[0;32m/code/persistence/.venv/lib/python3.10/site-packages/pandas/core/apply.py:1696\u001B[0m, in \u001B[0;36mreconstruct_func\u001B[0;34m(func, **kwargs)\u001B[0m\n\u001B[1;32m   1690\u001B[0m         \u001B[38;5;28;01mraise\u001B[39;00m SpecificationError(\n\u001B[1;32m   1691\u001B[0m             \u001B[38;5;124m\"\u001B[39m\u001B[38;5;124mFunction names must be unique if there is no new column names \u001B[39m\u001B[38;5;124m\"\u001B[39m\n\u001B[1;32m   1692\u001B[0m             \u001B[38;5;124m\"\u001B[39m\u001B[38;5;124massigned\u001B[39m\u001B[38;5;124m\"\u001B[39m\n\u001B[1;32m   1693\u001B[0m         )\n\u001B[1;32m   1694\u001B[0m     \u001B[38;5;28;01mif\u001B[39;00m func \u001B[38;5;129;01mis\u001B[39;00m \u001B[38;5;28;01mNone\u001B[39;00m:\n\u001B[1;32m   1695\u001B[0m         \u001B[38;5;66;03m# nicer error message\u001B[39;00m\n\u001B[0;32m-> 1696\u001B[0m         \u001B[38;5;28;01mraise\u001B[39;00m \u001B[38;5;167;01mTypeError\u001B[39;00m(\u001B[38;5;124m\"\u001B[39m\u001B[38;5;124mMust provide \u001B[39m\u001B[38;5;124m'\u001B[39m\u001B[38;5;124mfunc\u001B[39m\u001B[38;5;124m'\u001B[39m\u001B[38;5;124m or tuples of \u001B[39m\u001B[38;5;124m'\u001B[39m\u001B[38;5;124m(column, aggfunc).\u001B[39m\u001B[38;5;124m\"\u001B[39m)\n\u001B[1;32m   1698\u001B[0m \u001B[38;5;28;01mif\u001B[39;00m relabeling:\n\u001B[1;32m   1699\u001B[0m     \u001B[38;5;66;03m# error: Incompatible types in assignment (expression has type\u001B[39;00m\n\u001B[1;32m   1700\u001B[0m     \u001B[38;5;66;03m# \"MutableMapping[Hashable, list[Callable[..., Any] | str]]\", variable has type\u001B[39;00m\n\u001B[1;32m   1701\u001B[0m     \u001B[38;5;66;03m# \"Callable[..., Any] | str | list[Callable[..., Any] | str] |\u001B[39;00m\n\u001B[1;32m   1702\u001B[0m     \u001B[38;5;66;03m# MutableMapping[Hashable, Callable[..., Any] | str | list[Callable[..., Any] |\u001B[39;00m\n\u001B[1;32m   1703\u001B[0m     \u001B[38;5;66;03m# str]] | None\")\u001B[39;00m\n\u001B[1;32m   1704\u001B[0m     func, columns, order \u001B[38;5;241m=\u001B[39m normalize_keyword_aggregation(  \u001B[38;5;66;03m# type: ignore[assignment]\u001B[39;00m\n\u001B[1;32m   1705\u001B[0m         kwargs\n\u001B[1;32m   1706\u001B[0m     )\n",
      "\u001B[0;31mTypeError\u001B[0m: Must provide 'func' or tuples of '(column, aggfunc)."
     ]
    }
   ],
   "execution_count": 17
  },
  {
   "metadata": {},
   "cell_type": "code",
   "outputs": [],
   "execution_count": null,
   "source": [
    "from sklearn.cluster import KMeans\n",
    "from sklearn.preprocessing import StandardScaler\n",
    "\n",
    "data['points_trend'] = data.groupby('name')['points'].transform(lambda x: np.polyfit(range(len(x)), x, 1)[0])\n",
    "data['maxlvl_trend'] = data.groupby('name')['maxlvl'].transform(lambda x: np.polyfit(range(len(x)), x, 1)[0])\n",
    "\n",
    "# Aggregate features by player\n",
    "player_features = data.groupby('name').agg({\n",
    "    'points_trend': 'mean',\n",
    "    'maxlvl_trend': 'mean',\n",
    "    'points': ['mean', 'std'],\n",
    "    'maxlvl': ['mean', 'std']\n",
    "}).reset_index()\n",
    "\n",
    "scaler = StandardScaler()\n",
    "# Flatten the MultiIndex columns\n",
    "player_features.columns = ['_'.join(col).strip() for col in player_features.columns.values]\n",
    "\n",
    "# Now you can drop the 'name' column without warnings\n",
    "scaled_features = scaler.fit_transform(player_features.drop('name_', axis=1))\n",
    "player_features = pd.DataFrame(scaled_features)\n",
    "\n",
    "kmeans = KMeans(n_clusters=5, random_state=42)\n",
    "player_features['cluster'] = kmeans.fit_predict(scaled_features)\n"
   ],
   "id": "14d4f4d6fd3652e0"
  },
  {
   "metadata": {
    "ExecuteTime": {
     "end_time": "2024-10-18T20:19:47.400647Z",
     "start_time": "2024-10-18T20:19:47.152382Z"
    }
   },
   "cell_type": "code",
   "source": [
    "# Trend Analysis\n",
    "maxlvl_increase_sql = \"\"\"\n",
    "WITH LevelChange AS (\n",
    "    SELECT \n",
    "        name,\n",
    "        gameid,\n",
    "        maxlvl,\n",
    "        starttime,\n",
    "        LEAD(maxlvl) OVER (PARTITION BY name ORDER BY starttime) - maxlvl AS level_diff\n",
    "    FROM games\n",
    "),\n",
    "\n",
    "UpwardTrend AS (\n",
    "    SELECT\n",
    "        name,\n",
    "        COUNT(CASE WHEN level_diff > 0 THEN 1 END) AS positive_diff_count,\n",
    "        COUNT(CASE WHEN level_diff < 0 THEN 1 END) AS negative_diff_count,\n",
    "        COUNT(*) AS total_games\n",
    "    FROM LevelChange\n",
    "    GROUP BY name\n",
    "    HAVING COUNT(CASE WHEN level_diff > 0 THEN 1 END) >= (COUNT(*) * 0.65)  -- Players with an upward trend in at least 80% of their games\n",
    ")\n",
    "\n",
    "SELECT \n",
    "    g.*\n",
    "FROM\n",
    "    games g\n",
    "JOIN\n",
    "    UpwardTrend ut ON g.name = ut.name\n",
    "ORDER BY\n",
    "    g.name, g.starttime\n",
    "\"\"\"\n",
    "\n",
    "# Execute the query and load the data into a pandas DataFrame\n",
    "trend_data = pd.read_sql_query(maxlvl_increase_sql, db_conn)\n",
    "trend_data"
   ],
   "id": "db921582235c21a5",
   "outputs": [
    {
     "ename": "NameError",
     "evalue": "name 'pd' is not defined",
     "output_type": "error",
     "traceback": [
      "\u001B[0;31m---------------------------------------------------------------------------\u001B[0m",
      "\u001B[0;31mNameError\u001B[0m                                 Traceback (most recent call last)",
      "Cell \u001B[0;32mIn[1], line 35\u001B[0m\n\u001B[1;32m      2\u001B[0m maxlvl_increase_sql \u001B[38;5;241m=\u001B[39m \u001B[38;5;124m\"\"\"\u001B[39m\n\u001B[1;32m      3\u001B[0m \u001B[38;5;124mWITH LevelChange AS (\u001B[39m\n\u001B[1;32m      4\u001B[0m \u001B[38;5;124m    SELECT \u001B[39m\n\u001B[0;32m   (...)\u001B[0m\n\u001B[1;32m     31\u001B[0m \u001B[38;5;124m    g.name, g.starttime\u001B[39m\n\u001B[1;32m     32\u001B[0m \u001B[38;5;124m\"\"\"\u001B[39m\n\u001B[1;32m     34\u001B[0m \u001B[38;5;66;03m# Execute the query and load the data into a pandas DataFrame\u001B[39;00m\n\u001B[0;32m---> 35\u001B[0m trend_data \u001B[38;5;241m=\u001B[39m \u001B[43mpd\u001B[49m\u001B[38;5;241m.\u001B[39mread_sql_query(maxlvl_increase_sql, db_conn)\n\u001B[1;32m     36\u001B[0m trend_data\n",
      "\u001B[0;31mNameError\u001B[0m: name 'pd' is not defined"
     ]
    }
   ],
   "execution_count": 1
  },
  {
   "metadata": {
    "ExecuteTime": {
     "end_time": "2024-10-18T20:59:22.110215Z",
     "start_time": "2024-10-18T20:59:22.029633Z"
    }
   },
   "cell_type": "code",
   "source": [
    "def bin_players(df, metric, method='quantile', thresholds=None, zscore_threshold=1):\n",
    "    # Calculate player-level performance metrics\n",
    "    player_metrics = df.groupby('name')[metric].mean().reset_index()\n",
    "    \n",
    "    if method == 'quantile':\n",
    "        # Use quantiles to determine thresholds\n",
    "        lower_bound = df[metric].quantile(1/3)\n",
    "        upper_bound = df[metric].quantile(2/3)\n",
    "    \n",
    "        # Categorize players based on thresholds\n",
    "        beginners = player_metrics[player_metrics[metric] <= lower_bound]['name']\n",
    "        intermediates = player_metrics[(player_metrics[metric] > lower_bound) & (player_metrics[metric] <= upper_bound)]['name']\n",
    "        advanced = player_metrics[player_metrics[metric] > upper_bound]['name']\n",
    "    \n",
    "    elif method == 'thresholds' and thresholds is not None:\n",
    "        # Use thresholds provided as input\n",
    "        lower_bound, upper_bound = thresholds\n",
    "        \n",
    "        beginners = player_metrics[player_metrics[metric] <= lower_bound]['name']\n",
    "        intermediates = player_metrics[(player_metrics[metric] > lower_bound) & (player_metrics[metric] <= upper_bound)]['name']\n",
    "        advanced = player_metrics[player_metrics[metric] > upper_bound]['name']\n",
    "    \n",
    "    elif method == 'zscore':\n",
    "        # Z-score method to measure performance deviation from the mean\n",
    "        mean_metric = player_metrics[metric].mean()\n",
    "        std_metric = player_metrics[metric].std()\n",
    "        \n",
    "        # Calculate z-scores for each player\n",
    "        player_metrics['zscore'] = (player_metrics[metric] - mean_metric) / std_metric\n",
    "        \n",
    "        beginners = player_metrics[player_metrics['zscore'] <= -zscore_threshold]['name']\n",
    "        intermediates = player_metrics[(player_metrics['zscore'] > -zscore_threshold) & (player_metrics['zscore'] <= zscore_threshold)]['name']\n",
    "        advanced = player_metrics[player_metrics['zscore'] > zscore_threshold]['name']\n",
    "    \n",
    "    elif method == 'more':\n",
    "        custom_metric = df.groupby('name')['turns'].mean().reset_index()  \n",
    "        lower_bound = custom_metric['turns'].quantile(1/3)\n",
    "        upper_bound = custom_metric['turns'].quantile(2/3)\n",
    "        \n",
    "        beginners = custom_metric[custom_metric['turns'] <= lower_bound]['name']\n",
    "        intermediates = custom_metric[(custom_metric['turns'] > lower_bound) & (custom_metric['turns'] <= upper_bound)]['name']\n",
    "        advanced = custom_metric[custom_metric['turns'] > upper_bound]['name']\n",
    "    \n",
    "    else:\n",
    "        raise ValueError(\"Invalid method or thresholds not provided\")\n",
    "    \n",
    "    return beginners, intermediates, advanced\n",
    "\n",
    "\n",
    "beginners, intermediates, advanced = bin_players(data, metric='points', method='zscore')\n",
    "\n",
    "print(f\"Beginner Players: {beginners.nunique()}\")\n",
    "print(f\"Intermediate Players: {intermediates.nunique()}\")\n",
    "print(f\"Advanced Players: {advanced.nunique()}\")"
   ],
   "id": "94dc84f1b116a7fe",
   "outputs": [
    {
     "name": "stdout",
     "output_type": "stream",
     "text": [
      "Beginner Players: 0\n",
      "Intermediate Players: 978\n",
      "Advanced Players: 22\n"
     ]
    }
   ],
   "execution_count": 23
  },
  {
   "metadata": {},
   "cell_type": "code",
   "outputs": [],
   "execution_count": null,
   "source": "",
   "id": "616d548f06c9b4a"
  }
 ],
 "metadata": {
  "kernelspec": {
   "display_name": "Python 3",
   "language": "python",
   "name": "python3"
  },
  "language_info": {
   "codemirror_mode": {
    "name": "ipython",
    "version": 2
   },
   "file_extension": ".py",
   "mimetype": "text/x-python",
   "name": "python",
   "nbconvert_exporter": "python",
   "pygments_lexer": "ipython2",
   "version": "2.7.6"
  }
 },
 "nbformat": 4,
 "nbformat_minor": 5
}
