{
 "cells": [
  {
   "metadata": {
    "ExecuteTime": {
     "end_time": "2025-03-11T06:10:35.417387Z",
     "start_time": "2025-03-11T06:10:35.413880Z"
    }
   },
   "cell_type": "code",
   "source": [
    "import pandas as pd\n",
    "import matplotlib.pyplot as plt\n",
    "import numpy as np\n",
    "import seaborn as sns"
   ],
   "id": "a8242e33a5995644",
   "outputs": [],
   "execution_count": 1
  },
  {
   "metadata": {
    "ExecuteTime": {
     "end_time": "2025-03-11T08:42:26.550935Z",
     "start_time": "2025-03-11T08:42:19.365035Z"
    }
   },
   "cell_type": "code",
   "source": [
    "# Full dataset\n",
    "csv_path = \"/code/NetHack-Research/data/processed/new_full_data.csv\"\n",
    "\n",
    "# Load CSV to Pandas Dataframe\n",
    "df = pd.read_csv(csv_path)\n",
    "data = df.sort_values(['name', 'starttime'])"
   ],
   "id": "initial_id",
   "outputs": [],
   "execution_count": 151
  },
  {
   "metadata": {
    "ExecuteTime": {
     "end_time": "2025-03-11T07:32:30.098618Z",
     "start_time": "2025-03-11T07:32:30.095461Z"
    }
   },
   "cell_type": "code",
   "source": "### TEMPORAL METRICS ",
   "id": "9ff58ad5ab11c180",
   "outputs": [],
   "execution_count": 97
  },
  {
   "metadata": {
    "ExecuteTime": {
     "end_time": "2025-03-11T08:42:43.857719Z",
     "start_time": "2025-03-11T08:42:43.720798Z"
    }
   },
   "cell_type": "code",
   "source": [
    "# Add game sequence number for each player\n",
    "data['game_count'] = data.groupby('name').cumcount() + 1"
   ],
   "id": "fe2d1316851e12ce",
   "outputs": [],
   "execution_count": 152
  },
  {
   "metadata": {
    "ExecuteTime": {
     "end_time": "2025-03-11T08:42:46.528591Z",
     "start_time": "2025-03-11T08:42:45.784472Z"
    }
   },
   "cell_type": "code",
   "source": [
    "# Calculate game duration in minutes\n",
    "data['duration_minutes'] = (pd.to_datetime(data['endtime']) - pd.to_datetime(data['starttime'])).dt.total_seconds() / 60"
   ],
   "id": "4997585e2b5d7897",
   "outputs": [],
   "execution_count": 153
  },
  {
   "metadata": {
    "ExecuteTime": {
     "end_time": "2025-03-11T08:42:59.687609Z",
     "start_time": "2025-03-11T08:42:47.737106Z"
    }
   },
   "cell_type": "code",
   "source": [
    "# Calculate Inter-Session Game Time\n",
    "data['next_game_time'] = data.groupby('name')['starttime'].shift(-1)\n",
    "data['inter_session_time'] = (pd.to_datetime(data['next_game_time']) - pd.to_datetime(data['starttime'])).dt.total_seconds() / 3600\n",
    "\n",
    "# Replace NaN values with a large finite value to migitate problems training \n",
    "max_value = data['inter_session_time'].max()\n",
    "data['inter_session_time'] = data['inter_session_time'].fillna(max_value * 2)\n",
    "\n",
    "data['rolling_inter_session'] = data.groupby('name')['inter_session_time'].transform(lambda x: x.rolling(3, min_periods=1).mean())\n",
    "\n",
    "# Create quick return indicator (session within 12 hours instead of 24)\n",
    "data['quick_return'] = (data['inter_session_time'] < 12).astype(int)\n",
    "\n",
    "# Drop Next_game_time\n",
    "# TODO: drop next_game_time\n",
    "data = data.drop(columns='next_game_time')"
   ],
   "id": "624332a06c83afeb",
   "outputs": [],
   "execution_count": 154
  },
  {
   "metadata": {
    "ExecuteTime": {
     "end_time": "2025-03-11T08:43:03.299687Z",
     "start_time": "2025-03-11T08:43:02.693646Z"
    }
   },
   "cell_type": "code",
   "source": [
    "# Ensure 'starttime' is in datetime format\n",
    "data['starttime'] = pd.to_datetime(data['starttime'])\n",
    "\n",
    "# Get first game date per player\n",
    "data['first_game_date'] = data.groupby('name')['starttime'].transform('min')\n",
    "\n",
    "# Compute days since first game\n",
    "data['days_since_first_game'] = (data['starttime'] - data['first_game_date']).dt.total_seconds() / (24 * 3600)\n",
    "\n",
    "# Ensure non-negative values (just as a safety check)\n",
    "data['days_since_first_game'] = data['days_since_first_game'].clip(lower=0)\n",
    "\n",
    "# Drop first_game_date after computation\n",
    "data.drop(columns=['first_game_date'], inplace=True)"
   ],
   "id": "14ae13a6745474b",
   "outputs": [],
   "execution_count": 155
  },
  {
   "metadata": {
    "ExecuteTime": {
     "end_time": "2025-03-11T08:43:07.111495Z",
     "start_time": "2025-03-11T08:43:05.222397Z"
    }
   },
   "cell_type": "code",
   "source": [
    "# Calculate days active (number of unique days played)\n",
    "data['game_date'] = pd.to_datetime(data['starttime']).dt.date\n",
    "temp_days = data.groupby('name')['game_date'].nunique().reset_index()\n",
    "temp_days.columns = ['name', 'unique_days_active']\n",
    "data = pd.merge(data, temp_days, on='name', how='left')\n",
    "# TODO: Drop game_date"
   ],
   "id": "38a968cbbb63468b",
   "outputs": [],
   "execution_count": 156
  },
  {
   "metadata": {
    "ExecuteTime": {
     "end_time": "2025-03-11T08:43:28.121325Z",
     "start_time": "2025-03-11T08:43:08.358436Z"
    }
   },
   "cell_type": "code",
   "source": [
    "import numpy as np\n",
    "import pandas as pd\n",
    "\n",
    "# Ensure 'starttime' is in datetime format\n",
    "data['starttime'] = pd.to_datetime(data['starttime'])\n",
    "\n",
    "# Extract game date (only date, not time)\n",
    "data['game_date'] = data['starttime'].dt.date\n",
    "\n",
    "# Compute total unique days active per player\n",
    "data['unique_days_active'] = data.groupby('name')['game_date'].transform('nunique')\n",
    "\n",
    "# Compute total games per player\n",
    "data['total_games'] = data.groupby('name')['name'].transform('count')\n",
    "\n",
    "# Compute play density safely (avoid division by zero)\n",
    "data['play_density'] = data['total_games'] / data['unique_days_active'].replace(0, np.nan)\n",
    "\n",
    "# Apply log transformation to normalize the distribution\n",
    "data['log_play_density'] = np.log1p(data['play_density'])\n",
    "\n",
    "# Compute rolling play density over the last 7 played days (not just consecutive game sessions)\n",
    "data['rolling_play_density'] = data.groupby('name')['game_count'].transform(\n",
    "    lambda x: x.rolling(window=7, min_periods=1).sum()\n",
    ")\n",
    "\n",
    "data['smoothed_play_density'] = data.groupby('name')['rolling_play_density'].transform(lambda x: x.ewm(span=5, adjust=False).mean())\n",
    "\n",
    "# Drop temporary columns if not needed\n",
    "data.drop(columns=['total_games', 'unique_days_active', 'game_date', 'rolling_play_density', 'play_density'], inplace=True)"
   ],
   "id": "4b3658d8ba585597",
   "outputs": [],
   "execution_count": 157
  },
  {
   "metadata": {
    "ExecuteTime": {
     "end_time": "2025-03-11T08:43:52.148527Z",
     "start_time": "2025-03-11T08:43:52.146011Z"
    }
   },
   "cell_type": "code",
   "source": "## PROGRESSION METRICS",
   "id": "2d6bc59080f89b0",
   "outputs": [],
   "execution_count": 158
  },
  {
   "metadata": {
    "ExecuteTime": {
     "end_time": "2025-03-11T08:43:53.001719Z",
     "start_time": "2025-03-11T08:43:52.891291Z"
    }
   },
   "cell_type": "code",
   "source": [
    "# Calculate cumulative max level reached\n",
    "data['cum_max_level'] = data.groupby('name')['maxlvl'].cummax()"
   ],
   "id": "8f251e82b9637ccb",
   "outputs": [],
   "execution_count": 159
  },
  {
   "metadata": {
    "ExecuteTime": {
     "end_time": "2025-03-11T08:44:03.047373Z",
     "start_time": "2025-03-11T08:43:54.875704Z"
    }
   },
   "cell_type": "code",
   "source": [
    "# Calculate level progression rate\n",
    "data['level_progression_rate'] = data['maxlvl'] / data['game_count']\n",
    "# Smooth it out\n",
    "data['cum_level_progression_rate'] = data.groupby('name')['level_progression_rate'].transform(lambda x: x.expanding().mean())"
   ],
   "id": "1bed6d3244a3a66e",
   "outputs": [],
   "execution_count": 160
  },
  {
   "metadata": {
    "ExecuteTime": {
     "end_time": "2025-03-11T08:44:14.790204Z",
     "start_time": "2025-03-11T08:44:04.244233Z"
    }
   },
   "cell_type": "code",
   "source": [
    "data['points_per_turn'] = data['points'] / data['turns'].where(data['turns'] > 0, np.nan)\n",
    "data['log_points_per_turn'] = np.log1p(data.groupby('name')['points_per_turn'].transform(lambda x: x.rolling(5, min_periods=1).mean()))"
   ],
   "id": "f8845e540184e6c5",
   "outputs": [],
   "execution_count": 161
  },
  {
   "metadata": {
    "ExecuteTime": {
     "end_time": "2025-03-11T08:44:17.494153Z",
     "start_time": "2025-03-11T08:44:17.342844Z"
    }
   },
   "cell_type": "code",
   "source": [
    "# Calculate relative performance (compared to player's average)\n",
    "data['avg_points'] = data.groupby('name')['points'].transform('mean')\n",
    "data['relative_performance'] = data['points'] / (data['avg_points'].replace(0, np.nan) + 1e-5)\n",
    "\n",
    "upper_limit = data['relative_performance'].quantile(0.95)\n",
    "data['relative_performance'] = data['relative_performance'].clip(0, upper_limit)"
   ],
   "id": "4136b175522ffd05",
   "outputs": [],
   "execution_count": 162
  },
  {
   "metadata": {
    "ExecuteTime": {
     "end_time": "2025-03-11T08:44:31.567010Z",
     "start_time": "2025-03-11T08:44:21.156883Z"
    }
   },
   "cell_type": "code",
   "source": [
    "import numpy as np\n",
    "# Compute previous max level per player (for progression tracking)\n",
    "data['prev_max_level'] = data.groupby('name')['cum_max_level'].shift(1).fillna(0)\n",
    "\n",
    "# Compute level improvement per game\n",
    "data['level_improvement'] = data['cum_max_level'] - data['prev_max_level']\n",
    "\n",
    "# Ensure cumulative progression velocity starts at 0\n",
    "data['cum_progression_velocity'] = data.groupby('name')['level_improvement'].cumsum()\n",
    "data.loc[data['game_count'] == 1, 'cum_progression_velocity'] = 0\n",
    "data['rolling_progression_velocity'] = data.groupby('name')['level_improvement'].transform(lambda x: x.rolling(5, min_periods=1).mean())\n",
    "# Drop temporary column if needed\n",
    "data.drop(columns=['prev_max_level'], inplace=True)"
   ],
   "id": "c8ea7c4d2c663fff",
   "outputs": [],
   "execution_count": 163
  },
  {
   "metadata": {
    "ExecuteTime": {
     "end_time": "2025-03-11T08:44:36.163188Z",
     "start_time": "2025-03-11T08:44:35.712081Z"
    }
   },
   "cell_type": "code",
   "source": [
    "# Create standardized variables for composite score\n",
    "persistence_components = [\n",
    "    'cum_progression_velocity',\n",
    "    'cum_level_progression_rate',\n",
    "    'smoothed_play_density',\n",
    "    'rolling_progression_velocity',\n",
    "    'log_points_per_turn'\n",
    "]\n",
    "\n",
    "# Ensure all components exist\n",
    "for component in persistence_components:\n",
    "    if component not in data.columns:\n",
    "        print(f\"Warning: Component {component} not found in dataframe\")\n",
    "        persistence_components.remove(component)\n",
    "\n",
    "# Standardize each component\n",
    "for component in persistence_components:\n",
    "    mean_val = data[component].mean()\n",
    "    std_val = data[component].std()\n",
    "    if std_val > 0:\n",
    "        data[f'{component}_std'] = (data[component] - mean_val) / std_val\n",
    "    else:\n",
    "        data[f'{component}_std'] = 0\n",
    "\n",
    "# Calculate composite persistence score\n",
    "std_components = [f'{component}_std' for component in persistence_components]\n",
    "data['persistence_score'] = data[std_components].mean(axis=1)\n",
    "\n",
    "# Calculate cumulative persistence score\n",
    "data['cumulative_persistence'] = data.groupby('name')['persistence_score'].cumsum()\n",
    "data['avg_persistence'] = data.groupby('name')['persistence_score'].transform('mean')\n",
    "\n",
    "print(f\"Engineered {len(data.columns) - len(df.columns)} new features for persistence analysis\")"
   ],
   "id": "13d9a509dd90c6b4",
   "outputs": [
    {
     "name": "stdout",
     "output_type": "stream",
     "text": [
      "Engineered 26 new features for persistence analysis\n"
     ]
    }
   ],
   "execution_count": 164
  },
  {
   "metadata": {
    "ExecuteTime": {
     "end_time": "2025-03-11T08:45:04.418971Z",
     "start_time": "2025-03-11T08:44:42.750471Z"
    }
   },
   "cell_type": "code",
   "source": [
    "from sklearn.preprocessing import StandardScaler\n",
    "scaler = StandardScaler()\n",
    "data['game_number_centered'] = scaler.fit_transform(data[['game_count']])\n",
    "data['game_number_squared'] = data['game_number_centered'] ** 2\n",
    "\n",
    "# Calculate rolling statistics by standard deviation (e.g., 3-game windows)\n",
    "window_size = 3\n",
    "data['rolling_maxlvl_std'] = data.groupby('name')['maxlvl'].transform(lambda x: x.rolling(window=window_size, min_periods=1).std())\n",
    "data['rolling_turns_std'] = data.groupby('name')['turns'].transform(lambda x: x.rolling(window=window_size, min_periods=1).std())"
   ],
   "id": "f806a9fb6530ecb0",
   "outputs": [],
   "execution_count": 165
  },
  {
   "metadata": {
    "ExecuteTime": {
     "end_time": "2025-03-11T07:36:00.207567Z",
     "start_time": "2025-03-11T07:35:38.772153Z"
    }
   },
   "cell_type": "code",
   "source": [
    "# Compute CV with safe division\n",
    "data['rolling_maxlvl_mean'] = data.groupby('name')['maxlvl'].transform(lambda x: x.rolling(window=window_size, min_periods=1).mean())\n",
    "data['rolling_turns_mean'] = data.groupby('name')['turns'].transform(lambda x: x.rolling(window=window_size, min_periods=1).mean())\n",
    "data['rolling_maxlvl_cv'] = data['rolling_maxlvl_std'] / data['rolling_maxlvl_mean'].replace(0, np.nan).fillna(1)\n",
    "data['rolling_turns_cv'] = data['rolling_turns_std'] / data['rolling_turns_mean'].replace(0, np.nan).fillna(1)"
   ],
   "id": "918826b2017aea21",
   "outputs": [],
   "execution_count": 113
  },
  {
   "metadata": {
    "ExecuteTime": {
     "end_time": "2025-03-11T08:51:50.937577Z",
     "start_time": "2025-03-11T08:51:48.834374Z"
    }
   },
   "cell_type": "code",
   "source": "data.fillna(0, inplace=True)",
   "id": "57df419a9a5a2cbb",
   "outputs": [],
   "execution_count": 172
  },
  {
   "metadata": {
    "ExecuteTime": {
     "end_time": "2025-03-11T08:54:17.659982Z",
     "start_time": "2025-03-11T08:54:17.610632Z"
    }
   },
   "cell_type": "code",
   "source": [
    "scaler = StandardScaler()\n",
    "data[['game_number_centered', 'game_number_squared']] = scaler.fit_transform(data[['game_number_centered', 'game_number_squared']])\n"
   ],
   "id": "638bb2dfbfc42495",
   "outputs": [],
   "execution_count": 176
  },
  {
   "metadata": {
    "ExecuteTime": {
     "end_time": "2025-03-11T08:56:49.225268Z",
     "start_time": "2025-03-11T08:56:48.417101Z"
    }
   },
   "cell_type": "code",
   "source": [
    "\n",
    "\n",
    "from statsmodels.stats.outliers_influence import variance_inflation_factor\n",
    "X = data[['cumulative_persistence', 'persistence_score', 'game_number_centered']]\n",
    "vif_data = pd.DataFrame()\n",
    "vif_data[\"Feature\"] = X.columns\n",
    "vif_data[\"VIF\"] = [variance_inflation_factor(X.values, i) for i in range(len(X.columns))]\n",
    "print(vif_data)"
   ],
   "id": "2fa3361962c6a63d",
   "outputs": [
    {
     "name": "stdout",
     "output_type": "stream",
     "text": [
      "                  Feature       VIF\n",
      "0  cumulative_persistence  2.537115\n",
      "1       persistence_score  1.144682\n",
      "2    game_number_centered  2.588748\n"
     ]
    }
   ],
   "execution_count": 182
  },
  {
   "metadata": {
    "ExecuteTime": {
     "end_time": "2025-03-11T08:59:04.140461Z",
     "start_time": "2025-03-11T08:58:11.473708Z"
    }
   },
   "cell_type": "code",
   "source": "data.to_csv(\"/code/NetHack-Research/data/processed/features.csv\", index=False)",
   "id": "bcc517071da09b34",
   "outputs": [],
   "execution_count": 184
  },
  {
   "metadata": {},
   "cell_type": "code",
   "source": [
    "import pandas as pd\n",
    "import statsmodels.formula.api as smf\n",
    "\n",
    "# Select relevant columns\n",
    "lgm_data = data[['name', 'game_count', 'persistence_score', 'cumulative_persistence', 'game_number_centered']]\n",
    "\n",
    "# Ensure proper data types\n",
    "lgm_data = lgm_data.dropna()  # Drop missing values if needed\n",
    "lgm_data = lgm_data.sort_values(['name', 'game_count'])  # Ensure time order\n"
   ],
   "id": "188c18fd1becdb5b",
   "outputs": [],
   "execution_count": null
  },
  {
   "metadata": {
    "ExecuteTime": {
     "end_time": "2025-03-11T08:39:26.764047Z",
     "start_time": "2025-03-11T08:30:30.185986Z"
    }
   },
   "cell_type": "code",
   "source": [
    "# Define LGM formula\n",
    "lgm_formula = \"persistence_score ~ game_number_centered + game_number_squared\"\n",
    "\n",
    "# Fit the model with random intercepts and slopes\n",
    "lgm_model = smf.mixedlm(lgm_formula, lgm_data, groups=lgm_data[\"name\"], \n",
    "                         re_formula=\"1 + game_number_centered\")\n",
    "\n",
    "lgm_results = lgm_model.fit()\n",
    "\n",
    "# Print summary of model results\n",
    "print(lgm_results.summary())"
   ],
   "id": "898ddc88f1c8ec63",
   "outputs": [
    {
     "ename": "KeyboardInterrupt",
     "evalue": "",
     "output_type": "error",
     "traceback": [
      "\u001B[0;31m---------------------------------------------------------------------------\u001B[0m",
      "\u001B[0;31mKeyboardInterrupt\u001B[0m                         Traceback (most recent call last)",
      "Cell \u001B[0;32mIn[148], line 8\u001B[0m\n\u001B[1;32m      4\u001B[0m \u001B[38;5;66;03m# Fit the model with random intercepts and slopes\u001B[39;00m\n\u001B[1;32m      5\u001B[0m lgm_model \u001B[38;5;241m=\u001B[39m smf\u001B[38;5;241m.\u001B[39mmixedlm(lgm_formula, lgm_data, groups\u001B[38;5;241m=\u001B[39mlgm_data[\u001B[38;5;124m\"\u001B[39m\u001B[38;5;124mname\u001B[39m\u001B[38;5;124m\"\u001B[39m], \n\u001B[1;32m      6\u001B[0m                          re_formula\u001B[38;5;241m=\u001B[39m\u001B[38;5;124m\"\u001B[39m\u001B[38;5;124m1 + game_number_centered\u001B[39m\u001B[38;5;124m\"\u001B[39m)\n\u001B[0;32m----> 8\u001B[0m lgm_results \u001B[38;5;241m=\u001B[39m \u001B[43mlgm_model\u001B[49m\u001B[38;5;241;43m.\u001B[39;49m\u001B[43mfit\u001B[49m\u001B[43m(\u001B[49m\u001B[43m)\u001B[49m\n\u001B[1;32m     10\u001B[0m \u001B[38;5;66;03m# Print summary of model results\u001B[39;00m\n\u001B[1;32m     11\u001B[0m \u001B[38;5;28mprint\u001B[39m(lgm_results\u001B[38;5;241m.\u001B[39msummary())\n",
      "File \u001B[0;32m/code/NetHack-Research/.venv/lib/python3.10/site-packages/statsmodels/regression/mixed_linear_model.py:2191\u001B[0m, in \u001B[0;36mMixedLM.fit\u001B[0;34m(self, start_params, reml, niter_sa, do_cg, fe_pen, cov_pen, free, full_output, method, **fit_kwargs)\u001B[0m\n\u001B[1;32m   2189\u001B[0m \u001B[38;5;66;03m# Try optimizing one or more times\u001B[39;00m\n\u001B[1;32m   2190\u001B[0m \u001B[38;5;28;01mfor\u001B[39;00m j \u001B[38;5;129;01min\u001B[39;00m \u001B[38;5;28mrange\u001B[39m(\u001B[38;5;28mlen\u001B[39m(method)):\n\u001B[0;32m-> 2191\u001B[0m     rslt \u001B[38;5;241m=\u001B[39m \u001B[38;5;28;43msuper\u001B[39;49m\u001B[43m(\u001B[49m\u001B[43m)\u001B[49m\u001B[38;5;241;43m.\u001B[39;49m\u001B[43mfit\u001B[49m\u001B[43m(\u001B[49m\u001B[43mstart_params\u001B[49m\u001B[38;5;241;43m=\u001B[39;49m\u001B[43mpacked\u001B[49m\u001B[43m,\u001B[49m\n\u001B[1;32m   2192\u001B[0m \u001B[43m                       \u001B[49m\u001B[43mskip_hessian\u001B[49m\u001B[38;5;241;43m=\u001B[39;49m\u001B[38;5;28;43;01mTrue\u001B[39;49;00m\u001B[43m,\u001B[49m\n\u001B[1;32m   2193\u001B[0m \u001B[43m                       \u001B[49m\u001B[43mmethod\u001B[49m\u001B[38;5;241;43m=\u001B[39;49m\u001B[43mmethod\u001B[49m\u001B[43m[\u001B[49m\u001B[43mj\u001B[49m\u001B[43m]\u001B[49m\u001B[43m,\u001B[49m\n\u001B[1;32m   2194\u001B[0m \u001B[43m                       \u001B[49m\u001B[38;5;241;43m*\u001B[39;49m\u001B[38;5;241;43m*\u001B[39;49m\u001B[43mfit_kwargs\u001B[49m\u001B[43m)\u001B[49m\n\u001B[1;32m   2195\u001B[0m     \u001B[38;5;28;01mif\u001B[39;00m rslt\u001B[38;5;241m.\u001B[39mmle_retvals[\u001B[38;5;124m'\u001B[39m\u001B[38;5;124mconverged\u001B[39m\u001B[38;5;124m'\u001B[39m]:\n\u001B[1;32m   2196\u001B[0m         \u001B[38;5;28;01mbreak\u001B[39;00m\n",
      "File \u001B[0;32m/code/NetHack-Research/.venv/lib/python3.10/site-packages/statsmodels/base/model.py:566\u001B[0m, in \u001B[0;36mLikelihoodModel.fit\u001B[0;34m(self, start_params, method, maxiter, full_output, disp, fargs, callback, retall, skip_hessian, **kwargs)\u001B[0m\n\u001B[1;32m    563\u001B[0m     \u001B[38;5;28;01mdel\u001B[39;00m kwargs[\u001B[38;5;124m\"\u001B[39m\u001B[38;5;124muse_t\u001B[39m\u001B[38;5;124m\"\u001B[39m]\n\u001B[1;32m    565\u001B[0m optimizer \u001B[38;5;241m=\u001B[39m Optimizer()\n\u001B[0;32m--> 566\u001B[0m xopt, retvals, optim_settings \u001B[38;5;241m=\u001B[39m \u001B[43moptimizer\u001B[49m\u001B[38;5;241;43m.\u001B[39;49m\u001B[43m_fit\u001B[49m\u001B[43m(\u001B[49m\u001B[43mf\u001B[49m\u001B[43m,\u001B[49m\u001B[43m \u001B[49m\u001B[43mscore\u001B[49m\u001B[43m,\u001B[49m\u001B[43m \u001B[49m\u001B[43mstart_params\u001B[49m\u001B[43m,\u001B[49m\n\u001B[1;32m    567\u001B[0m \u001B[43m                                               \u001B[49m\u001B[43mfargs\u001B[49m\u001B[43m,\u001B[49m\u001B[43m \u001B[49m\u001B[43mkwargs\u001B[49m\u001B[43m,\u001B[49m\n\u001B[1;32m    568\u001B[0m \u001B[43m                                               \u001B[49m\u001B[43mhessian\u001B[49m\u001B[38;5;241;43m=\u001B[39;49m\u001B[43mhess\u001B[49m\u001B[43m,\u001B[49m\n\u001B[1;32m    569\u001B[0m \u001B[43m                                               \u001B[49m\u001B[43mmethod\u001B[49m\u001B[38;5;241;43m=\u001B[39;49m\u001B[43mmethod\u001B[49m\u001B[43m,\u001B[49m\n\u001B[1;32m    570\u001B[0m \u001B[43m                                               \u001B[49m\u001B[43mdisp\u001B[49m\u001B[38;5;241;43m=\u001B[39;49m\u001B[43mdisp\u001B[49m\u001B[43m,\u001B[49m\n\u001B[1;32m    571\u001B[0m \u001B[43m                                               \u001B[49m\u001B[43mmaxiter\u001B[49m\u001B[38;5;241;43m=\u001B[39;49m\u001B[43mmaxiter\u001B[49m\u001B[43m,\u001B[49m\n\u001B[1;32m    572\u001B[0m \u001B[43m                                               \u001B[49m\u001B[43mcallback\u001B[49m\u001B[38;5;241;43m=\u001B[39;49m\u001B[43mcallback\u001B[49m\u001B[43m,\u001B[49m\n\u001B[1;32m    573\u001B[0m \u001B[43m                                               \u001B[49m\u001B[43mretall\u001B[49m\u001B[38;5;241;43m=\u001B[39;49m\u001B[43mretall\u001B[49m\u001B[43m,\u001B[49m\n\u001B[1;32m    574\u001B[0m \u001B[43m                                               \u001B[49m\u001B[43mfull_output\u001B[49m\u001B[38;5;241;43m=\u001B[39;49m\u001B[43mfull_output\u001B[49m\u001B[43m)\u001B[49m\n\u001B[1;32m    575\u001B[0m \u001B[38;5;66;03m# Restore cov_type, cov_kwds and use_t\u001B[39;00m\n\u001B[1;32m    576\u001B[0m optim_settings\u001B[38;5;241m.\u001B[39mupdate(kwds)\n",
      "File \u001B[0;32m/code/NetHack-Research/.venv/lib/python3.10/site-packages/statsmodels/base/optimizer.py:243\u001B[0m, in \u001B[0;36mOptimizer._fit\u001B[0;34m(self, objective, gradient, start_params, fargs, kwargs, hessian, method, maxiter, full_output, disp, callback, retall)\u001B[0m\n\u001B[1;32m    240\u001B[0m     fit_funcs\u001B[38;5;241m.\u001B[39mupdate(extra_fit_funcs)\n\u001B[1;32m    242\u001B[0m func \u001B[38;5;241m=\u001B[39m fit_funcs[method]\n\u001B[0;32m--> 243\u001B[0m xopt, retvals \u001B[38;5;241m=\u001B[39m \u001B[43mfunc\u001B[49m\u001B[43m(\u001B[49m\u001B[43mobjective\u001B[49m\u001B[43m,\u001B[49m\u001B[43m \u001B[49m\u001B[43mgradient\u001B[49m\u001B[43m,\u001B[49m\u001B[43m \u001B[49m\u001B[43mstart_params\u001B[49m\u001B[43m,\u001B[49m\u001B[43m \u001B[49m\u001B[43mfargs\u001B[49m\u001B[43m,\u001B[49m\u001B[43m \u001B[49m\u001B[43mkwargs\u001B[49m\u001B[43m,\u001B[49m\n\u001B[1;32m    244\u001B[0m \u001B[43m                     \u001B[49m\u001B[43mdisp\u001B[49m\u001B[38;5;241;43m=\u001B[39;49m\u001B[43mdisp\u001B[49m\u001B[43m,\u001B[49m\u001B[43m \u001B[49m\u001B[43mmaxiter\u001B[49m\u001B[38;5;241;43m=\u001B[39;49m\u001B[43mmaxiter\u001B[49m\u001B[43m,\u001B[49m\u001B[43m \u001B[49m\u001B[43mcallback\u001B[49m\u001B[38;5;241;43m=\u001B[39;49m\u001B[43mcallback\u001B[49m\u001B[43m,\u001B[49m\n\u001B[1;32m    245\u001B[0m \u001B[43m                     \u001B[49m\u001B[43mretall\u001B[49m\u001B[38;5;241;43m=\u001B[39;49m\u001B[43mretall\u001B[49m\u001B[43m,\u001B[49m\u001B[43m \u001B[49m\u001B[43mfull_output\u001B[49m\u001B[38;5;241;43m=\u001B[39;49m\u001B[43mfull_output\u001B[49m\u001B[43m,\u001B[49m\n\u001B[1;32m    246\u001B[0m \u001B[43m                     \u001B[49m\u001B[43mhess\u001B[49m\u001B[38;5;241;43m=\u001B[39;49m\u001B[43mhessian\u001B[49m\u001B[43m)\u001B[49m\n\u001B[1;32m    248\u001B[0m optim_settings \u001B[38;5;241m=\u001B[39m {\u001B[38;5;124m'\u001B[39m\u001B[38;5;124moptimizer\u001B[39m\u001B[38;5;124m'\u001B[39m: method, \u001B[38;5;124m'\u001B[39m\u001B[38;5;124mstart_params\u001B[39m\u001B[38;5;124m'\u001B[39m: start_params,\n\u001B[1;32m    249\u001B[0m                   \u001B[38;5;124m'\u001B[39m\u001B[38;5;124mmaxiter\u001B[39m\u001B[38;5;124m'\u001B[39m: maxiter, \u001B[38;5;124m'\u001B[39m\u001B[38;5;124mfull_output\u001B[39m\u001B[38;5;124m'\u001B[39m: full_output,\n\u001B[1;32m    250\u001B[0m                   \u001B[38;5;124m'\u001B[39m\u001B[38;5;124mdisp\u001B[39m\u001B[38;5;124m'\u001B[39m: disp, \u001B[38;5;124m'\u001B[39m\u001B[38;5;124mfargs\u001B[39m\u001B[38;5;124m'\u001B[39m: fargs, \u001B[38;5;124m'\u001B[39m\u001B[38;5;124mcallback\u001B[39m\u001B[38;5;124m'\u001B[39m: callback,\n\u001B[1;32m    251\u001B[0m                   \u001B[38;5;124m'\u001B[39m\u001B[38;5;124mretall\u001B[39m\u001B[38;5;124m'\u001B[39m: retall, \u001B[38;5;124m\"\u001B[39m\u001B[38;5;124mextra_fit_funcs\u001B[39m\u001B[38;5;124m\"\u001B[39m: extra_fit_funcs}\n\u001B[1;32m    252\u001B[0m optim_settings\u001B[38;5;241m.\u001B[39mupdate(kwargs)\n",
      "File \u001B[0;32m/code/NetHack-Research/.venv/lib/python3.10/site-packages/statsmodels/base/optimizer.py:538\u001B[0m, in \u001B[0;36m_fit_bfgs\u001B[0;34m(f, score, start_params, fargs, kwargs, disp, maxiter, callback, retall, full_output, hess)\u001B[0m\n\u001B[1;32m    536\u001B[0m norm \u001B[38;5;241m=\u001B[39m kwargs\u001B[38;5;241m.\u001B[39msetdefault(\u001B[38;5;124m'\u001B[39m\u001B[38;5;124mnorm\u001B[39m\u001B[38;5;124m'\u001B[39m, np\u001B[38;5;241m.\u001B[39minf)\n\u001B[1;32m    537\u001B[0m epsilon \u001B[38;5;241m=\u001B[39m kwargs\u001B[38;5;241m.\u001B[39msetdefault(\u001B[38;5;124m'\u001B[39m\u001B[38;5;124mepsilon\u001B[39m\u001B[38;5;124m'\u001B[39m, \u001B[38;5;241m1.4901161193847656e-08\u001B[39m)\n\u001B[0;32m--> 538\u001B[0m retvals \u001B[38;5;241m=\u001B[39m \u001B[43moptimize\u001B[49m\u001B[38;5;241;43m.\u001B[39;49m\u001B[43mfmin_bfgs\u001B[49m\u001B[43m(\u001B[49m\u001B[43mf\u001B[49m\u001B[43m,\u001B[49m\u001B[43m \u001B[49m\u001B[43mstart_params\u001B[49m\u001B[43m,\u001B[49m\u001B[43m \u001B[49m\u001B[43mscore\u001B[49m\u001B[43m,\u001B[49m\u001B[43m \u001B[49m\u001B[43margs\u001B[49m\u001B[38;5;241;43m=\u001B[39;49m\u001B[43mfargs\u001B[49m\u001B[43m,\u001B[49m\n\u001B[1;32m    539\u001B[0m \u001B[43m                             \u001B[49m\u001B[43mgtol\u001B[49m\u001B[38;5;241;43m=\u001B[39;49m\u001B[43mgtol\u001B[49m\u001B[43m,\u001B[49m\u001B[43m \u001B[49m\u001B[43mnorm\u001B[49m\u001B[38;5;241;43m=\u001B[39;49m\u001B[43mnorm\u001B[49m\u001B[43m,\u001B[49m\u001B[43m \u001B[49m\u001B[43mepsilon\u001B[49m\u001B[38;5;241;43m=\u001B[39;49m\u001B[43mepsilon\u001B[49m\u001B[43m,\u001B[49m\n\u001B[1;32m    540\u001B[0m \u001B[43m                             \u001B[49m\u001B[43mmaxiter\u001B[49m\u001B[38;5;241;43m=\u001B[39;49m\u001B[43mmaxiter\u001B[49m\u001B[43m,\u001B[49m\u001B[43m \u001B[49m\u001B[43mfull_output\u001B[49m\u001B[38;5;241;43m=\u001B[39;49m\u001B[43mfull_output\u001B[49m\u001B[43m,\u001B[49m\n\u001B[1;32m    541\u001B[0m \u001B[43m                             \u001B[49m\u001B[43mdisp\u001B[49m\u001B[38;5;241;43m=\u001B[39;49m\u001B[43mdisp\u001B[49m\u001B[43m,\u001B[49m\u001B[43m \u001B[49m\u001B[43mretall\u001B[49m\u001B[38;5;241;43m=\u001B[39;49m\u001B[43mretall\u001B[49m\u001B[43m,\u001B[49m\u001B[43m \u001B[49m\u001B[43mcallback\u001B[49m\u001B[38;5;241;43m=\u001B[39;49m\u001B[43mcallback\u001B[49m\u001B[43m)\u001B[49m\n\u001B[1;32m    542\u001B[0m \u001B[38;5;28;01mif\u001B[39;00m full_output:\n\u001B[1;32m    543\u001B[0m     \u001B[38;5;28;01mif\u001B[39;00m \u001B[38;5;129;01mnot\u001B[39;00m retall:\n",
      "File \u001B[0;32m/code/NetHack-Research/.venv/lib/python3.10/site-packages/scipy/optimize/_optimize.py:1292\u001B[0m, in \u001B[0;36mfmin_bfgs\u001B[0;34m(f, x0, fprime, args, gtol, norm, epsilon, maxiter, full_output, disp, retall, callback, xrtol, c1, c2, hess_inv0)\u001B[0m\n\u001B[1;32m   1280\u001B[0m opts \u001B[38;5;241m=\u001B[39m {\u001B[38;5;124m'\u001B[39m\u001B[38;5;124mgtol\u001B[39m\u001B[38;5;124m'\u001B[39m: gtol,\n\u001B[1;32m   1281\u001B[0m         \u001B[38;5;124m'\u001B[39m\u001B[38;5;124mnorm\u001B[39m\u001B[38;5;124m'\u001B[39m: norm,\n\u001B[1;32m   1282\u001B[0m         \u001B[38;5;124m'\u001B[39m\u001B[38;5;124meps\u001B[39m\u001B[38;5;124m'\u001B[39m: epsilon,\n\u001B[0;32m   (...)\u001B[0m\n\u001B[1;32m   1288\u001B[0m         \u001B[38;5;124m'\u001B[39m\u001B[38;5;124mc2\u001B[39m\u001B[38;5;124m'\u001B[39m: c2,\n\u001B[1;32m   1289\u001B[0m         \u001B[38;5;124m'\u001B[39m\u001B[38;5;124mhess_inv0\u001B[39m\u001B[38;5;124m'\u001B[39m: hess_inv0}\n\u001B[1;32m   1291\u001B[0m callback \u001B[38;5;241m=\u001B[39m _wrap_callback(callback)\n\u001B[0;32m-> 1292\u001B[0m res \u001B[38;5;241m=\u001B[39m \u001B[43m_minimize_bfgs\u001B[49m\u001B[43m(\u001B[49m\u001B[43mf\u001B[49m\u001B[43m,\u001B[49m\u001B[43m \u001B[49m\u001B[43mx0\u001B[49m\u001B[43m,\u001B[49m\u001B[43m \u001B[49m\u001B[43margs\u001B[49m\u001B[43m,\u001B[49m\u001B[43m \u001B[49m\u001B[43mfprime\u001B[49m\u001B[43m,\u001B[49m\u001B[43m \u001B[49m\u001B[43mcallback\u001B[49m\u001B[38;5;241;43m=\u001B[39;49m\u001B[43mcallback\u001B[49m\u001B[43m,\u001B[49m\u001B[43m \u001B[49m\u001B[38;5;241;43m*\u001B[39;49m\u001B[38;5;241;43m*\u001B[39;49m\u001B[43mopts\u001B[49m\u001B[43m)\u001B[49m\n\u001B[1;32m   1294\u001B[0m \u001B[38;5;28;01mif\u001B[39;00m full_output:\n\u001B[1;32m   1295\u001B[0m     retlist \u001B[38;5;241m=\u001B[39m (res[\u001B[38;5;124m'\u001B[39m\u001B[38;5;124mx\u001B[39m\u001B[38;5;124m'\u001B[39m], res[\u001B[38;5;124m'\u001B[39m\u001B[38;5;124mfun\u001B[39m\u001B[38;5;124m'\u001B[39m], res[\u001B[38;5;124m'\u001B[39m\u001B[38;5;124mjac\u001B[39m\u001B[38;5;124m'\u001B[39m], res[\u001B[38;5;124m'\u001B[39m\u001B[38;5;124mhess_inv\u001B[39m\u001B[38;5;124m'\u001B[39m],\n\u001B[1;32m   1296\u001B[0m                res[\u001B[38;5;124m'\u001B[39m\u001B[38;5;124mnfev\u001B[39m\u001B[38;5;124m'\u001B[39m], res[\u001B[38;5;124m'\u001B[39m\u001B[38;5;124mnjev\u001B[39m\u001B[38;5;124m'\u001B[39m], res[\u001B[38;5;124m'\u001B[39m\u001B[38;5;124mstatus\u001B[39m\u001B[38;5;124m'\u001B[39m])\n",
      "File \u001B[0;32m/code/NetHack-Research/.venv/lib/python3.10/site-packages/scipy/optimize/_optimize.py:1398\u001B[0m, in \u001B[0;36m_minimize_bfgs\u001B[0;34m(fun, x0, args, jac, callback, gtol, norm, eps, maxiter, disp, return_all, finite_diff_rel_step, xrtol, c1, c2, hess_inv0, **unknown_options)\u001B[0m\n\u001B[1;32m   1395\u001B[0m pk \u001B[38;5;241m=\u001B[39m \u001B[38;5;241m-\u001B[39mnp\u001B[38;5;241m.\u001B[39mdot(Hk, gfk)\n\u001B[1;32m   1396\u001B[0m \u001B[38;5;28;01mtry\u001B[39;00m:\n\u001B[1;32m   1397\u001B[0m     alpha_k, fc, gc, old_fval, old_old_fval, gfkp1 \u001B[38;5;241m=\u001B[39m \\\n\u001B[0;32m-> 1398\u001B[0m              \u001B[43m_line_search_wolfe12\u001B[49m\u001B[43m(\u001B[49m\u001B[43mf\u001B[49m\u001B[43m,\u001B[49m\u001B[43m \u001B[49m\u001B[43mmyfprime\u001B[49m\u001B[43m,\u001B[49m\u001B[43m \u001B[49m\u001B[43mxk\u001B[49m\u001B[43m,\u001B[49m\u001B[43m \u001B[49m\u001B[43mpk\u001B[49m\u001B[43m,\u001B[49m\u001B[43m \u001B[49m\u001B[43mgfk\u001B[49m\u001B[43m,\u001B[49m\n\u001B[1;32m   1399\u001B[0m \u001B[43m                                  \u001B[49m\u001B[43mold_fval\u001B[49m\u001B[43m,\u001B[49m\u001B[43m \u001B[49m\u001B[43mold_old_fval\u001B[49m\u001B[43m,\u001B[49m\u001B[43m \u001B[49m\u001B[43mamin\u001B[49m\u001B[38;5;241;43m=\u001B[39;49m\u001B[38;5;241;43m1e-100\u001B[39;49m\u001B[43m,\u001B[49m\n\u001B[1;32m   1400\u001B[0m \u001B[43m                                  \u001B[49m\u001B[43mamax\u001B[49m\u001B[38;5;241;43m=\u001B[39;49m\u001B[38;5;241;43m1e100\u001B[39;49m\u001B[43m,\u001B[49m\u001B[43m \u001B[49m\u001B[43mc1\u001B[49m\u001B[38;5;241;43m=\u001B[39;49m\u001B[43mc1\u001B[49m\u001B[43m,\u001B[49m\u001B[43m \u001B[49m\u001B[43mc2\u001B[49m\u001B[38;5;241;43m=\u001B[39;49m\u001B[43mc2\u001B[49m\u001B[43m)\u001B[49m\n\u001B[1;32m   1401\u001B[0m \u001B[38;5;28;01mexcept\u001B[39;00m _LineSearchError:\n\u001B[1;32m   1402\u001B[0m     \u001B[38;5;66;03m# Line search failed to find a better solution.\u001B[39;00m\n\u001B[1;32m   1403\u001B[0m     warnflag \u001B[38;5;241m=\u001B[39m \u001B[38;5;241m2\u001B[39m\n",
      "File \u001B[0;32m/code/NetHack-Research/.venv/lib/python3.10/site-packages/scipy/optimize/_optimize.py:1134\u001B[0m, in \u001B[0;36m_line_search_wolfe12\u001B[0;34m(f, fprime, xk, pk, gfk, old_fval, old_old_fval, **kwargs)\u001B[0m\n\u001B[1;32m   1120\u001B[0m \u001B[38;5;250m\u001B[39m\u001B[38;5;124;03m\"\"\"\u001B[39;00m\n\u001B[1;32m   1121\u001B[0m \u001B[38;5;124;03mSame as line_search_wolfe1, but fall back to line_search_wolfe2 if\u001B[39;00m\n\u001B[1;32m   1122\u001B[0m \u001B[38;5;124;03msuitable step length is not found, and raise an exception if a\u001B[39;00m\n\u001B[0;32m   (...)\u001B[0m\n\u001B[1;32m   1129\u001B[0m \n\u001B[1;32m   1130\u001B[0m \u001B[38;5;124;03m\"\"\"\u001B[39;00m\n\u001B[1;32m   1132\u001B[0m extra_condition \u001B[38;5;241m=\u001B[39m kwargs\u001B[38;5;241m.\u001B[39mpop(\u001B[38;5;124m'\u001B[39m\u001B[38;5;124mextra_condition\u001B[39m\u001B[38;5;124m'\u001B[39m, \u001B[38;5;28;01mNone\u001B[39;00m)\n\u001B[0;32m-> 1134\u001B[0m ret \u001B[38;5;241m=\u001B[39m \u001B[43mline_search_wolfe1\u001B[49m\u001B[43m(\u001B[49m\u001B[43mf\u001B[49m\u001B[43m,\u001B[49m\u001B[43m \u001B[49m\u001B[43mfprime\u001B[49m\u001B[43m,\u001B[49m\u001B[43m \u001B[49m\u001B[43mxk\u001B[49m\u001B[43m,\u001B[49m\u001B[43m \u001B[49m\u001B[43mpk\u001B[49m\u001B[43m,\u001B[49m\u001B[43m \u001B[49m\u001B[43mgfk\u001B[49m\u001B[43m,\u001B[49m\n\u001B[1;32m   1135\u001B[0m \u001B[43m                         \u001B[49m\u001B[43mold_fval\u001B[49m\u001B[43m,\u001B[49m\u001B[43m \u001B[49m\u001B[43mold_old_fval\u001B[49m\u001B[43m,\u001B[49m\n\u001B[1;32m   1136\u001B[0m \u001B[43m                         \u001B[49m\u001B[38;5;241;43m*\u001B[39;49m\u001B[38;5;241;43m*\u001B[39;49m\u001B[43mkwargs\u001B[49m\u001B[43m)\u001B[49m\n\u001B[1;32m   1138\u001B[0m \u001B[38;5;28;01mif\u001B[39;00m ret[\u001B[38;5;241m0\u001B[39m] \u001B[38;5;129;01mis\u001B[39;00m \u001B[38;5;129;01mnot\u001B[39;00m \u001B[38;5;28;01mNone\u001B[39;00m \u001B[38;5;129;01mand\u001B[39;00m extra_condition \u001B[38;5;129;01mis\u001B[39;00m \u001B[38;5;129;01mnot\u001B[39;00m \u001B[38;5;28;01mNone\u001B[39;00m:\n\u001B[1;32m   1139\u001B[0m     xp1 \u001B[38;5;241m=\u001B[39m xk \u001B[38;5;241m+\u001B[39m ret[\u001B[38;5;241m0\u001B[39m] \u001B[38;5;241m*\u001B[39m pk\n",
      "File \u001B[0;32m/code/NetHack-Research/.venv/lib/python3.10/site-packages/scipy/optimize/_linesearch.py:94\u001B[0m, in \u001B[0;36mline_search_wolfe1\u001B[0;34m(f, fprime, xk, pk, gfk, old_fval, old_old_fval, args, c1, c2, amax, amin, xtol)\u001B[0m\n\u001B[1;32m     90\u001B[0m     \u001B[38;5;28;01mreturn\u001B[39;00m np\u001B[38;5;241m.\u001B[39mdot(gval[\u001B[38;5;241m0\u001B[39m], pk)\n\u001B[1;32m     92\u001B[0m derphi0 \u001B[38;5;241m=\u001B[39m np\u001B[38;5;241m.\u001B[39mdot(gfk, pk)\n\u001B[0;32m---> 94\u001B[0m stp, fval, old_fval \u001B[38;5;241m=\u001B[39m \u001B[43mscalar_search_wolfe1\u001B[49m\u001B[43m(\u001B[49m\n\u001B[1;32m     95\u001B[0m \u001B[43m        \u001B[49m\u001B[43mphi\u001B[49m\u001B[43m,\u001B[49m\u001B[43m \u001B[49m\u001B[43mderphi\u001B[49m\u001B[43m,\u001B[49m\u001B[43m \u001B[49m\u001B[43mold_fval\u001B[49m\u001B[43m,\u001B[49m\u001B[43m \u001B[49m\u001B[43mold_old_fval\u001B[49m\u001B[43m,\u001B[49m\u001B[43m \u001B[49m\u001B[43mderphi0\u001B[49m\u001B[43m,\u001B[49m\n\u001B[1;32m     96\u001B[0m \u001B[43m        \u001B[49m\u001B[43mc1\u001B[49m\u001B[38;5;241;43m=\u001B[39;49m\u001B[43mc1\u001B[49m\u001B[43m,\u001B[49m\u001B[43m \u001B[49m\u001B[43mc2\u001B[49m\u001B[38;5;241;43m=\u001B[39;49m\u001B[43mc2\u001B[49m\u001B[43m,\u001B[49m\u001B[43m \u001B[49m\u001B[43mamax\u001B[49m\u001B[38;5;241;43m=\u001B[39;49m\u001B[43mamax\u001B[49m\u001B[43m,\u001B[49m\u001B[43m \u001B[49m\u001B[43mamin\u001B[49m\u001B[38;5;241;43m=\u001B[39;49m\u001B[43mamin\u001B[49m\u001B[43m,\u001B[49m\u001B[43m \u001B[49m\u001B[43mxtol\u001B[49m\u001B[38;5;241;43m=\u001B[39;49m\u001B[43mxtol\u001B[49m\u001B[43m)\u001B[49m\n\u001B[1;32m     98\u001B[0m \u001B[38;5;28;01mreturn\u001B[39;00m stp, fc[\u001B[38;5;241m0\u001B[39m], gc[\u001B[38;5;241m0\u001B[39m], fval, old_fval, gval[\u001B[38;5;241m0\u001B[39m]\n",
      "File \u001B[0;32m/code/NetHack-Research/.venv/lib/python3.10/site-packages/scipy/optimize/_linesearch.py:171\u001B[0m, in \u001B[0;36mscalar_search_wolfe1\u001B[0;34m(phi, derphi, phi0, old_phi0, derphi0, c1, c2, amax, amin, xtol)\u001B[0m\n\u001B[1;32m    168\u001B[0m maxiter \u001B[38;5;241m=\u001B[39m \u001B[38;5;241m100\u001B[39m\n\u001B[1;32m    170\u001B[0m dcsrch \u001B[38;5;241m=\u001B[39m DCSRCH(phi, derphi, c1, c2, xtol, amin, amax)\n\u001B[0;32m--> 171\u001B[0m stp, phi1, phi0, task \u001B[38;5;241m=\u001B[39m \u001B[43mdcsrch\u001B[49m\u001B[43m(\u001B[49m\n\u001B[1;32m    172\u001B[0m \u001B[43m    \u001B[49m\u001B[43malpha1\u001B[49m\u001B[43m,\u001B[49m\u001B[43m \u001B[49m\u001B[43mphi0\u001B[49m\u001B[38;5;241;43m=\u001B[39;49m\u001B[43mphi0\u001B[49m\u001B[43m,\u001B[49m\u001B[43m \u001B[49m\u001B[43mderphi0\u001B[49m\u001B[38;5;241;43m=\u001B[39;49m\u001B[43mderphi0\u001B[49m\u001B[43m,\u001B[49m\u001B[43m \u001B[49m\u001B[43mmaxiter\u001B[49m\u001B[38;5;241;43m=\u001B[39;49m\u001B[43mmaxiter\u001B[49m\n\u001B[1;32m    173\u001B[0m \u001B[43m\u001B[49m\u001B[43m)\u001B[49m\n\u001B[1;32m    175\u001B[0m \u001B[38;5;28;01mreturn\u001B[39;00m stp, phi1, phi0\n",
      "File \u001B[0;32m/code/NetHack-Research/.venv/lib/python3.10/site-packages/scipy/optimize/_dcsrch.py:256\u001B[0m, in \u001B[0;36mDCSRCH.__call__\u001B[0;34m(self, alpha1, phi0, derphi0, maxiter)\u001B[0m\n\u001B[1;32m    254\u001B[0m     alpha1 \u001B[38;5;241m=\u001B[39m stp\n\u001B[1;32m    255\u001B[0m     phi1 \u001B[38;5;241m=\u001B[39m \u001B[38;5;28mself\u001B[39m\u001B[38;5;241m.\u001B[39mphi(stp)\n\u001B[0;32m--> 256\u001B[0m     derphi1 \u001B[38;5;241m=\u001B[39m \u001B[38;5;28;43mself\u001B[39;49m\u001B[38;5;241;43m.\u001B[39;49m\u001B[43mderphi\u001B[49m\u001B[43m(\u001B[49m\u001B[43mstp\u001B[49m\u001B[43m)\u001B[49m\n\u001B[1;32m    257\u001B[0m \u001B[38;5;28;01melse\u001B[39;00m:\n\u001B[1;32m    258\u001B[0m     \u001B[38;5;28;01mbreak\u001B[39;00m\n",
      "File \u001B[0;32m/code/NetHack-Research/.venv/lib/python3.10/site-packages/scipy/optimize/_linesearch.py:88\u001B[0m, in \u001B[0;36mline_search_wolfe1.<locals>.derphi\u001B[0;34m(s)\u001B[0m\n\u001B[1;32m     87\u001B[0m \u001B[38;5;28;01mdef\u001B[39;00m \u001B[38;5;21mderphi\u001B[39m(s):\n\u001B[0;32m---> 88\u001B[0m     gval[\u001B[38;5;241m0\u001B[39m] \u001B[38;5;241m=\u001B[39m \u001B[43mfprime\u001B[49m\u001B[43m(\u001B[49m\u001B[43mxk\u001B[49m\u001B[43m \u001B[49m\u001B[38;5;241;43m+\u001B[39;49m\u001B[43m \u001B[49m\u001B[43ms\u001B[49m\u001B[38;5;241;43m*\u001B[39;49m\u001B[43mpk\u001B[49m\u001B[43m,\u001B[49m\u001B[43m \u001B[49m\u001B[38;5;241;43m*\u001B[39;49m\u001B[43margs\u001B[49m\u001B[43m)\u001B[49m\n\u001B[1;32m     89\u001B[0m     gc[\u001B[38;5;241m0\u001B[39m] \u001B[38;5;241m+\u001B[39m\u001B[38;5;241m=\u001B[39m \u001B[38;5;241m1\u001B[39m\n\u001B[1;32m     90\u001B[0m     \u001B[38;5;28;01mreturn\u001B[39;00m np\u001B[38;5;241m.\u001B[39mdot(gval[\u001B[38;5;241m0\u001B[39m], pk)\n",
      "File \u001B[0;32m/code/NetHack-Research/.venv/lib/python3.10/site-packages/scipy/optimize/_differentiable_functions.py:284\u001B[0m, in \u001B[0;36mScalarFunction.grad\u001B[0;34m(self, x)\u001B[0m\n\u001B[1;32m    282\u001B[0m \u001B[38;5;28;01mif\u001B[39;00m \u001B[38;5;129;01mnot\u001B[39;00m np\u001B[38;5;241m.\u001B[39marray_equal(x, \u001B[38;5;28mself\u001B[39m\u001B[38;5;241m.\u001B[39mx):\n\u001B[1;32m    283\u001B[0m     \u001B[38;5;28mself\u001B[39m\u001B[38;5;241m.\u001B[39m_update_x_impl(x)\n\u001B[0;32m--> 284\u001B[0m \u001B[38;5;28;43mself\u001B[39;49m\u001B[38;5;241;43m.\u001B[39;49m\u001B[43m_update_grad\u001B[49m\u001B[43m(\u001B[49m\u001B[43m)\u001B[49m\n\u001B[1;32m    285\u001B[0m \u001B[38;5;28;01mreturn\u001B[39;00m \u001B[38;5;28mself\u001B[39m\u001B[38;5;241m.\u001B[39mg\n",
      "File \u001B[0;32m/code/NetHack-Research/.venv/lib/python3.10/site-packages/scipy/optimize/_differentiable_functions.py:267\u001B[0m, in \u001B[0;36mScalarFunction._update_grad\u001B[0;34m(self)\u001B[0m\n\u001B[1;32m    265\u001B[0m \u001B[38;5;28;01mdef\u001B[39;00m \u001B[38;5;21m_update_grad\u001B[39m(\u001B[38;5;28mself\u001B[39m):\n\u001B[1;32m    266\u001B[0m     \u001B[38;5;28;01mif\u001B[39;00m \u001B[38;5;129;01mnot\u001B[39;00m \u001B[38;5;28mself\u001B[39m\u001B[38;5;241m.\u001B[39mg_updated:\n\u001B[0;32m--> 267\u001B[0m         \u001B[38;5;28;43mself\u001B[39;49m\u001B[38;5;241;43m.\u001B[39;49m\u001B[43m_update_grad_impl\u001B[49m\u001B[43m(\u001B[49m\u001B[43m)\u001B[49m\n\u001B[1;32m    268\u001B[0m         \u001B[38;5;28mself\u001B[39m\u001B[38;5;241m.\u001B[39mg_updated \u001B[38;5;241m=\u001B[39m \u001B[38;5;28;01mTrue\u001B[39;00m\n",
      "File \u001B[0;32m/code/NetHack-Research/.venv/lib/python3.10/site-packages/scipy/optimize/_differentiable_functions.py:175\u001B[0m, in \u001B[0;36mScalarFunction.__init__.<locals>.update_grad\u001B[0;34m()\u001B[0m\n\u001B[1;32m    174\u001B[0m \u001B[38;5;28;01mdef\u001B[39;00m \u001B[38;5;21mupdate_grad\u001B[39m():\n\u001B[0;32m--> 175\u001B[0m     \u001B[38;5;28mself\u001B[39m\u001B[38;5;241m.\u001B[39mg \u001B[38;5;241m=\u001B[39m \u001B[43mgrad_wrapped\u001B[49m\u001B[43m(\u001B[49m\u001B[38;5;28;43mself\u001B[39;49m\u001B[38;5;241;43m.\u001B[39;49m\u001B[43mx\u001B[49m\u001B[43m)\u001B[49m\n",
      "File \u001B[0;32m/code/NetHack-Research/.venv/lib/python3.10/site-packages/scipy/optimize/_differentiable_functions.py:172\u001B[0m, in \u001B[0;36mScalarFunction.__init__.<locals>.grad_wrapped\u001B[0;34m(x)\u001B[0m\n\u001B[1;32m    170\u001B[0m \u001B[38;5;28;01mdef\u001B[39;00m \u001B[38;5;21mgrad_wrapped\u001B[39m(x):\n\u001B[1;32m    171\u001B[0m     \u001B[38;5;28mself\u001B[39m\u001B[38;5;241m.\u001B[39mngev \u001B[38;5;241m+\u001B[39m\u001B[38;5;241m=\u001B[39m \u001B[38;5;241m1\u001B[39m\n\u001B[0;32m--> 172\u001B[0m     \u001B[38;5;28;01mreturn\u001B[39;00m np\u001B[38;5;241m.\u001B[39matleast_1d(\u001B[43mgrad\u001B[49m\u001B[43m(\u001B[49m\u001B[43mnp\u001B[49m\u001B[38;5;241;43m.\u001B[39;49m\u001B[43mcopy\u001B[49m\u001B[43m(\u001B[49m\u001B[43mx\u001B[49m\u001B[43m)\u001B[49m\u001B[43m,\u001B[49m\u001B[43m \u001B[49m\u001B[38;5;241;43m*\u001B[39;49m\u001B[43margs\u001B[49m\u001B[43m)\u001B[49m)\n",
      "File \u001B[0;32m/code/NetHack-Research/.venv/lib/python3.10/site-packages/statsmodels/base/model.py:545\u001B[0m, in \u001B[0;36mLikelihoodModel.fit.<locals>.score\u001B[0;34m(params, *args)\u001B[0m\n\u001B[1;32m    544\u001B[0m \u001B[38;5;28;01mdef\u001B[39;00m \u001B[38;5;21mscore\u001B[39m(params, \u001B[38;5;241m*\u001B[39margs):\n\u001B[0;32m--> 545\u001B[0m     \u001B[38;5;28;01mreturn\u001B[39;00m \u001B[38;5;241m-\u001B[39m\u001B[38;5;28;43mself\u001B[39;49m\u001B[38;5;241;43m.\u001B[39;49m\u001B[43mscore\u001B[49m\u001B[43m(\u001B[49m\u001B[43mparams\u001B[49m\u001B[43m,\u001B[49m\u001B[43m \u001B[49m\u001B[38;5;241;43m*\u001B[39;49m\u001B[43margs\u001B[49m\u001B[43m)\u001B[49m \u001B[38;5;241m/\u001B[39m nobs\n",
      "File \u001B[0;32m/code/NetHack-Research/.venv/lib/python3.10/site-packages/statsmodels/regression/mixed_linear_model.py:1630\u001B[0m, in \u001B[0;36mMixedLM.score\u001B[0;34m(self, params, profile_fe)\u001B[0m\n\u001B[1;32m   1624\u001B[0m     params \u001B[38;5;241m=\u001B[39m MixedLMParams\u001B[38;5;241m.\u001B[39mfrom_packed(\n\u001B[1;32m   1625\u001B[0m         params, \u001B[38;5;28mself\u001B[39m\u001B[38;5;241m.\u001B[39mk_fe, \u001B[38;5;28mself\u001B[39m\u001B[38;5;241m.\u001B[39mk_re, \u001B[38;5;28mself\u001B[39m\u001B[38;5;241m.\u001B[39muse_sqrt,\n\u001B[1;32m   1626\u001B[0m         has_fe\u001B[38;5;241m=\u001B[39m\u001B[38;5;28;01mFalse\u001B[39;00m)\n\u001B[1;32m   1628\u001B[0m \u001B[38;5;28;01mif\u001B[39;00m profile_fe:\n\u001B[1;32m   1629\u001B[0m     params\u001B[38;5;241m.\u001B[39mfe_params, sing \u001B[38;5;241m=\u001B[39m \\\n\u001B[0;32m-> 1630\u001B[0m         \u001B[38;5;28;43mself\u001B[39;49m\u001B[38;5;241;43m.\u001B[39;49m\u001B[43mget_fe_params\u001B[49m\u001B[43m(\u001B[49m\u001B[43mparams\u001B[49m\u001B[38;5;241;43m.\u001B[39;49m\u001B[43mcov_re\u001B[49m\u001B[43m,\u001B[49m\u001B[43m \u001B[49m\u001B[43mparams\u001B[49m\u001B[38;5;241;43m.\u001B[39;49m\u001B[43mvcomp\u001B[49m\u001B[43m)\u001B[49m\n\u001B[1;32m   1632\u001B[0m     \u001B[38;5;28;01mif\u001B[39;00m sing:\n\u001B[1;32m   1633\u001B[0m         msg \u001B[38;5;241m=\u001B[39m \u001B[38;5;124m\"\u001B[39m\u001B[38;5;124mRandom effects covariance is singular\u001B[39m\u001B[38;5;124m\"\u001B[39m\n",
      "File \u001B[0;32m/code/NetHack-Research/.venv/lib/python3.10/site-packages/statsmodels/regression/mixed_linear_model.py:1338\u001B[0m, in \u001B[0;36mMixedLM.get_fe_params\u001B[0;34m(self, cov_re, vcomp, tol)\u001B[0m\n\u001B[1;32m   1336\u001B[0m exog \u001B[38;5;241m=\u001B[39m \u001B[38;5;28mself\u001B[39m\u001B[38;5;241m.\u001B[39mexog_li[group_ix]\n\u001B[1;32m   1337\u001B[0m ex_r, ex2_r \u001B[38;5;241m=\u001B[39m \u001B[38;5;28mself\u001B[39m\u001B[38;5;241m.\u001B[39m_aex_r[group_ix], \u001B[38;5;28mself\u001B[39m\u001B[38;5;241m.\u001B[39m_aex_r2[group_ix]\n\u001B[0;32m-> 1338\u001B[0m solver \u001B[38;5;241m=\u001B[39m \u001B[43m_smw_solver\u001B[49m\u001B[43m(\u001B[49m\u001B[38;5;241;43m1.\u001B[39;49m\u001B[43m,\u001B[49m\u001B[43m \u001B[49m\u001B[43mex_r\u001B[49m\u001B[43m,\u001B[49m\u001B[43m \u001B[49m\u001B[43mex2_r\u001B[49m\u001B[43m,\u001B[49m\u001B[43m \u001B[49m\u001B[43mcov_re_inv\u001B[49m\u001B[43m,\u001B[49m\u001B[43m \u001B[49m\u001B[43mvc_vari\u001B[49m\u001B[43m)\u001B[49m\n\u001B[1;32m   1339\u001B[0m u \u001B[38;5;241m=\u001B[39m solver(\u001B[38;5;28mself\u001B[39m\u001B[38;5;241m.\u001B[39m_endex_li[group_ix])\n\u001B[1;32m   1340\u001B[0m xtxy \u001B[38;5;241m+\u001B[39m\u001B[38;5;241m=\u001B[39m np\u001B[38;5;241m.\u001B[39mdot(exog\u001B[38;5;241m.\u001B[39mT, u)\n",
      "File \u001B[0;32m/code/NetHack-Research/.venv/lib/python3.10/site-packages/statsmodels/regression/mixed_linear_model.py:501\u001B[0m, in \u001B[0;36m_smw_solver\u001B[0;34m(s, A, AtA, Qi, di)\u001B[0m\n\u001B[1;32m    499\u001B[0m d \u001B[38;5;241m=\u001B[39m qmat\u001B[38;5;241m.\u001B[39mshape[\u001B[38;5;241m0\u001B[39m]\n\u001B[1;32m    500\u001B[0m qmat\u001B[38;5;241m.\u001B[39mflat[m\u001B[38;5;241m*\u001B[39m(d\u001B[38;5;241m+\u001B[39m\u001B[38;5;241m1\u001B[39m)::d\u001B[38;5;241m+\u001B[39m\u001B[38;5;241m1\u001B[39m] \u001B[38;5;241m+\u001B[39m\u001B[38;5;241m=\u001B[39m di\n\u001B[0;32m--> 501\u001B[0m qmati \u001B[38;5;241m=\u001B[39m \u001B[43mnp\u001B[49m\u001B[38;5;241;43m.\u001B[39;49m\u001B[43mlinalg\u001B[49m\u001B[38;5;241;43m.\u001B[39;49m\u001B[43msolve\u001B[49m\u001B[43m(\u001B[49m\u001B[43mqmat\u001B[49m\u001B[43m,\u001B[49m\u001B[43m \u001B[49m\u001B[43mA\u001B[49m\u001B[38;5;241;43m.\u001B[39;49m\u001B[43mT\u001B[49m\u001B[43m)\u001B[49m\n\u001B[1;32m    503\u001B[0m \u001B[38;5;28;01mdef\u001B[39;00m \u001B[38;5;21msolver\u001B[39m(rhs):\n\u001B[1;32m    504\u001B[0m     \u001B[38;5;66;03m# A is tall and qmati is wide, so we want\u001B[39;00m\n\u001B[1;32m    505\u001B[0m     \u001B[38;5;66;03m# A * (qmati * rhs) not (A * qmati) * rhs\u001B[39;00m\n\u001B[1;32m    506\u001B[0m     ql \u001B[38;5;241m=\u001B[39m np\u001B[38;5;241m.\u001B[39mdot(qmati, rhs)\n",
      "File \u001B[0;32m<__array_function__ internals>:180\u001B[0m, in \u001B[0;36msolve\u001B[0;34m(*args, **kwargs)\u001B[0m\n",
      "File \u001B[0;32m/code/NetHack-Research/.venv/lib/python3.10/site-packages/numpy/linalg/linalg.py:400\u001B[0m, in \u001B[0;36msolve\u001B[0;34m(a, b)\u001B[0m\n\u001B[1;32m    398\u001B[0m signature \u001B[38;5;241m=\u001B[39m \u001B[38;5;124m'\u001B[39m\u001B[38;5;124mDD->D\u001B[39m\u001B[38;5;124m'\u001B[39m \u001B[38;5;28;01mif\u001B[39;00m isComplexType(t) \u001B[38;5;28;01melse\u001B[39;00m \u001B[38;5;124m'\u001B[39m\u001B[38;5;124mdd->d\u001B[39m\u001B[38;5;124m'\u001B[39m\n\u001B[1;32m    399\u001B[0m extobj \u001B[38;5;241m=\u001B[39m get_linalg_error_extobj(_raise_linalgerror_singular)\n\u001B[0;32m--> 400\u001B[0m r \u001B[38;5;241m=\u001B[39m \u001B[43mgufunc\u001B[49m\u001B[43m(\u001B[49m\u001B[43ma\u001B[49m\u001B[43m,\u001B[49m\u001B[43m \u001B[49m\u001B[43mb\u001B[49m\u001B[43m,\u001B[49m\u001B[43m \u001B[49m\u001B[43msignature\u001B[49m\u001B[38;5;241;43m=\u001B[39;49m\u001B[43msignature\u001B[49m\u001B[43m,\u001B[49m\u001B[43m \u001B[49m\u001B[43mextobj\u001B[49m\u001B[38;5;241;43m=\u001B[39;49m\u001B[43mextobj\u001B[49m\u001B[43m)\u001B[49m\n\u001B[1;32m    402\u001B[0m \u001B[38;5;28;01mreturn\u001B[39;00m wrap(r\u001B[38;5;241m.\u001B[39mastype(result_t, copy\u001B[38;5;241m=\u001B[39m\u001B[38;5;28;01mFalse\u001B[39;00m))\n",
      "\u001B[0;31mKeyboardInterrupt\u001B[0m: "
     ]
    }
   ],
   "execution_count": 148
  },
  {
   "metadata": {},
   "cell_type": "code",
   "source": [
    "# Extract player-specific parameters\n",
    "player_params = []\n",
    "for player, effects in lgm_model.random_effects.items():\n",
    "    player_params.append({\n",
    "        'name': player,\n",
    "        'random_intercept': effects[0],\n",
    "        'random_slope': effects[1],\n",
    "        'total_intercept': lgm_model.fe_params[0] + effects[0],\n",
    "        'total_slope': lgm_model.fe_params[1] + effects[1]\n",
    "    })\n",
    "\n",
    "player_params_df = pd.DataFrame(player_params)\n",
    "\n",
    "# Visualize results\n",
    "plt.figure(figsize=(12, 8))\n",
    "plt.scatter(\n",
    "    player_params_df['total_intercept'],\n",
    "    player_params_df['total_slope'],\n",
    "    alpha=0.6\n",
    ")\n",
    "plt.axhline(y=0, color='gray', linestyle='--', alpha=0.5)\n",
    "plt.axvline(x=0, color='gray', linestyle='--', alpha=0.5)\n",
    "plt.xlabel('Initial Persistence (Intercept)')\n",
    "plt.ylabel('Persistence Growth (Slope)')\n",
    "plt.title(f'Player Persistence Trajectories')\n",
    "plt.grid(True, alpha=0.3)\n",
    "\n",
    "# Highlight most persistent players (high intercept, positive slope)\n",
    "top_persistent = player_params_df[\n",
    "    (player_params_df['total_intercept'] > player_params_df['total_intercept'].median()) &\n",
    "    (player_params_df['total_slope'] > 0)\n",
    "].nlargest(10, 'total_slope')\n",
    "\n",
    "for _, player in top_persistent.iterrows():\n",
    "    plt.annotate(\n",
    "        player['name'],\n",
    "        (player['total_intercept'], player['total_slope']),\n",
    "        xytext=(5, 5),\n",
    "        textcoords='offset points',\n",
    "        bbox=dict(boxstyle=\"round,pad=0.3\", fc=\"white\", ec=\"gray\", alpha=0.8)\n",
    "    )\n",
    "\n",
    "plt.savefig('persistence_lgm_results.png', dpi=300, bbox_inches='tight')\n",
    "plt.show()\n",
    "\n",
    "# Save the top persistent players\n",
    "print(\"Top persistent players identified by LGM:\")\n",
    "print(top_persistent[['name', 'total_intercept', 'total_slope']])\n",
    "top_persistent.to_csv('top_persistent_players.csv', index=False)"
   ],
   "id": "d02e5a97c1d02e92",
   "outputs": [],
   "execution_count": null
  },
  {
   "metadata": {},
   "cell_type": "code",
   "outputs": [],
   "execution_count": null,
   "source": "",
   "id": "c445474dee18b327"
  }
 ],
 "metadata": {
  "kernelspec": {
   "display_name": "Python 3",
   "language": "python",
   "name": "python3"
  },
  "language_info": {
   "codemirror_mode": {
    "name": "ipython",
    "version": 2
   },
   "file_extension": ".py",
   "mimetype": "text/x-python",
   "name": "python",
   "nbconvert_exporter": "python",
   "pygments_lexer": "ipython2",
   "version": "2.7.6"
  }
 },
 "nbformat": 4,
 "nbformat_minor": 5
}
